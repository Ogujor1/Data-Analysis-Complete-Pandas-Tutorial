{
 "cells": [
  {
   "cell_type": "code",
   "execution_count": 3,
   "id": "aecb7072",
   "metadata": {},
   "outputs": [
    {
     "data": {
      "text/plain": [
       "0    1.0\n",
       "1    2.0\n",
       "2    3.0\n",
       "3    4.0\n",
       "4    5.0\n",
       "5    6.0\n",
       "6    NaN\n",
       "7    8.0\n",
       "8    9.0\n",
       "dtype: float64"
      ]
     },
     "execution_count": 3,
     "metadata": {},
     "output_type": "execute_result"
    }
   ],
   "source": [
    "import pandas as pd\n",
    "import numpy as np\n",
    "\n",
    "df = pd.Series([1,2,3,4,5,6,np.nan,8, 9])\n",
    "df"
   ]
  },
  {
   "cell_type": "markdown",
   "id": "79ebcb74",
   "metadata": {},
   "source": [
    "## Creating Data with date Range"
   ]
  },
  {
   "cell_type": "code",
   "execution_count": 4,
   "id": "190b75a1",
   "metadata": {},
   "outputs": [
    {
     "data": {
      "text/plain": [
       "DatetimeIndex(['2023-03-01', '2023-03-02', '2023-03-03', '2023-03-04',\n",
       "               '2023-03-05', '2023-03-06', '2023-03-07', '2023-03-08',\n",
       "               '2023-03-09', '2023-03-10'],\n",
       "              dtype='datetime64[ns]', freq='D')"
      ]
     },
     "execution_count": 4,
     "metadata": {},
     "output_type": "execute_result"
    }
   ],
   "source": [
    "d = pd.date_range('20230301', periods=10,)\n",
    "d"
   ]
  },
  {
   "cell_type": "code",
   "execution_count": 5,
   "id": "67632364",
   "metadata": {},
   "outputs": [
    {
     "data": {
      "text/html": [
       "<div>\n",
       "<style scoped>\n",
       "    .dataframe tbody tr th:only-of-type {\n",
       "        vertical-align: middle;\n",
       "    }\n",
       "\n",
       "    .dataframe tbody tr th {\n",
       "        vertical-align: top;\n",
       "    }\n",
       "\n",
       "    .dataframe thead th {\n",
       "        text-align: right;\n",
       "    }\n",
       "</style>\n",
       "<table border=\"1\" class=\"dataframe\">\n",
       "  <thead>\n",
       "    <tr style=\"text-align: right;\">\n",
       "      <th></th>\n",
       "      <th>A</th>\n",
       "      <th>B</th>\n",
       "      <th>C</th>\n",
       "      <th>D</th>\n",
       "    </tr>\n",
       "  </thead>\n",
       "  <tbody>\n",
       "    <tr>\n",
       "      <th>2023-03-01</th>\n",
       "      <td>-0.070680</td>\n",
       "      <td>0.488183</td>\n",
       "      <td>1.842112</td>\n",
       "      <td>0.464690</td>\n",
       "    </tr>\n",
       "    <tr>\n",
       "      <th>2023-03-02</th>\n",
       "      <td>0.475439</td>\n",
       "      <td>0.592806</td>\n",
       "      <td>1.369885</td>\n",
       "      <td>-0.947044</td>\n",
       "    </tr>\n",
       "    <tr>\n",
       "      <th>2023-03-03</th>\n",
       "      <td>-0.879105</td>\n",
       "      <td>0.318365</td>\n",
       "      <td>-0.082892</td>\n",
       "      <td>-0.708707</td>\n",
       "    </tr>\n",
       "    <tr>\n",
       "      <th>2023-03-04</th>\n",
       "      <td>1.238739</td>\n",
       "      <td>0.611783</td>\n",
       "      <td>-0.905257</td>\n",
       "      <td>0.229430</td>\n",
       "    </tr>\n",
       "    <tr>\n",
       "      <th>2023-03-05</th>\n",
       "      <td>-0.240381</td>\n",
       "      <td>-1.530622</td>\n",
       "      <td>2.822203</td>\n",
       "      <td>0.923120</td>\n",
       "    </tr>\n",
       "    <tr>\n",
       "      <th>2023-03-06</th>\n",
       "      <td>0.878280</td>\n",
       "      <td>-1.138735</td>\n",
       "      <td>-0.905591</td>\n",
       "      <td>0.724961</td>\n",
       "    </tr>\n",
       "    <tr>\n",
       "      <th>2023-03-07</th>\n",
       "      <td>2.059688</td>\n",
       "      <td>0.927920</td>\n",
       "      <td>1.539835</td>\n",
       "      <td>-1.244867</td>\n",
       "    </tr>\n",
       "    <tr>\n",
       "      <th>2023-03-08</th>\n",
       "      <td>0.032422</td>\n",
       "      <td>1.165929</td>\n",
       "      <td>1.213171</td>\n",
       "      <td>0.336323</td>\n",
       "    </tr>\n",
       "    <tr>\n",
       "      <th>2023-03-09</th>\n",
       "      <td>1.409262</td>\n",
       "      <td>-1.781004</td>\n",
       "      <td>-0.062828</td>\n",
       "      <td>-0.285885</td>\n",
       "    </tr>\n",
       "    <tr>\n",
       "      <th>2023-03-10</th>\n",
       "      <td>0.729914</td>\n",
       "      <td>-0.184524</td>\n",
       "      <td>-0.175065</td>\n",
       "      <td>-1.134462</td>\n",
       "    </tr>\n",
       "  </tbody>\n",
       "</table>\n",
       "</div>"
      ],
      "text/plain": [
       "                   A         B         C         D\n",
       "2023-03-01 -0.070680  0.488183  1.842112  0.464690\n",
       "2023-03-02  0.475439  0.592806  1.369885 -0.947044\n",
       "2023-03-03 -0.879105  0.318365 -0.082892 -0.708707\n",
       "2023-03-04  1.238739  0.611783 -0.905257  0.229430\n",
       "2023-03-05 -0.240381 -1.530622  2.822203  0.923120\n",
       "2023-03-06  0.878280 -1.138735 -0.905591  0.724961\n",
       "2023-03-07  2.059688  0.927920  1.539835 -1.244867\n",
       "2023-03-08  0.032422  1.165929  1.213171  0.336323\n",
       "2023-03-09  1.409262 -1.781004 -0.062828 -0.285885\n",
       "2023-03-10  0.729914 -0.184524 -0.175065 -1.134462"
      ]
     },
     "execution_count": 5,
     "metadata": {},
     "output_type": "execute_result"
    }
   ],
   "source": [
    "df1 = pd.DataFrame(np.random.randn(10,4), index=d, columns=['A', 'B', 'C', 'D'])\n",
    "df1"
   ]
  },
  {
   "cell_type": "markdown",
   "id": "cd1d8569",
   "metadata": {},
   "source": [
    "## Creating A DataFrame"
   ]
  },
  {
   "cell_type": "code",
   "execution_count": 6,
   "id": "293d4ffb",
   "metadata": {},
   "outputs": [
    {
     "data": {
      "text/html": [
       "<div>\n",
       "<style scoped>\n",
       "    .dataframe tbody tr th:only-of-type {\n",
       "        vertical-align: middle;\n",
       "    }\n",
       "\n",
       "    .dataframe tbody tr th {\n",
       "        vertical-align: top;\n",
       "    }\n",
       "\n",
       "    .dataframe thead th {\n",
       "        text-align: right;\n",
       "    }\n",
       "</style>\n",
       "<table border=\"1\" class=\"dataframe\">\n",
       "  <thead>\n",
       "    <tr style=\"text-align: right;\">\n",
       "      <th></th>\n",
       "      <th>A</th>\n",
       "      <th>B</th>\n",
       "      <th>C</th>\n",
       "      <th>D</th>\n",
       "      <th>F</th>\n",
       "    </tr>\n",
       "  </thead>\n",
       "  <tbody>\n",
       "    <tr>\n",
       "      <th>0</th>\n",
       "      <td>1</td>\n",
       "      <td>2023-03-02</td>\n",
       "      <td>5</td>\n",
       "      <td>True</td>\n",
       "      <td>Edureka</td>\n",
       "    </tr>\n",
       "    <tr>\n",
       "      <th>1</th>\n",
       "      <td>2</td>\n",
       "      <td>2023-03-02</td>\n",
       "      <td>5</td>\n",
       "      <td>False</td>\n",
       "      <td>Edureka</td>\n",
       "    </tr>\n",
       "    <tr>\n",
       "      <th>2</th>\n",
       "      <td>3</td>\n",
       "      <td>2023-03-02</td>\n",
       "      <td>5</td>\n",
       "      <td>True</td>\n",
       "      <td>Edureka</td>\n",
       "    </tr>\n",
       "    <tr>\n",
       "      <th>3</th>\n",
       "      <td>4</td>\n",
       "      <td>2023-03-02</td>\n",
       "      <td>5</td>\n",
       "      <td>False</td>\n",
       "      <td>Edureka</td>\n",
       "    </tr>\n",
       "  </tbody>\n",
       "</table>\n",
       "</div>"
      ],
      "text/plain": [
       "   A          B  C      D        F\n",
       "0  1 2023-03-02  5   True  Edureka\n",
       "1  2 2023-03-02  5  False  Edureka\n",
       "2  3 2023-03-02  5   True  Edureka\n",
       "3  4 2023-03-02  5  False  Edureka"
      ]
     },
     "execution_count": 6,
     "metadata": {},
     "output_type": "execute_result"
    }
   ],
   "source": [
    "df2 = pd.DataFrame({\n",
    "    'A': [1,2,3,4],\n",
    "    'B': pd.Timestamp('20230302'),\n",
    "    'C': np.array([5]*4, dtype='int32'),\n",
    "    'D': pd.Categorical(['True', 'False', 'True', 'False']),\n",
    "    'F': 'Edureka'\n",
    "})\n",
    "\n",
    "df2"
   ]
  },
  {
   "cell_type": "markdown",
   "id": "d9a47d1d",
   "metadata": {},
   "source": [
    "## TO CHECK DATA TYPE"
   ]
  },
  {
   "cell_type": "code",
   "execution_count": 7,
   "id": "6c7a206e",
   "metadata": {},
   "outputs": [
    {
     "data": {
      "text/plain": [
       "A    float64\n",
       "B    float64\n",
       "C    float64\n",
       "D    float64\n",
       "dtype: object"
      ]
     },
     "execution_count": 7,
     "metadata": {},
     "output_type": "execute_result"
    }
   ],
   "source": [
    "df1.dtypes"
   ]
  },
  {
   "cell_type": "code",
   "execution_count": 8,
   "id": "da17d6e0",
   "metadata": {},
   "outputs": [
    {
     "data": {
      "text/plain": [
       "A             int64\n",
       "B    datetime64[ns]\n",
       "C             int32\n",
       "D          category\n",
       "F            object\n",
       "dtype: object"
      ]
     },
     "execution_count": 8,
     "metadata": {},
     "output_type": "execute_result"
    }
   ],
   "source": [
    "df2.dtypes"
   ]
  },
  {
   "cell_type": "markdown",
   "id": "5bb1e44e",
   "metadata": {},
   "source": [
    "## HOW TO VIEW DATA"
   ]
  },
  {
   "cell_type": "code",
   "execution_count": 9,
   "id": "0f281098",
   "metadata": {},
   "outputs": [
    {
     "data": {
      "text/html": [
       "<div>\n",
       "<style scoped>\n",
       "    .dataframe tbody tr th:only-of-type {\n",
       "        vertical-align: middle;\n",
       "    }\n",
       "\n",
       "    .dataframe tbody tr th {\n",
       "        vertical-align: top;\n",
       "    }\n",
       "\n",
       "    .dataframe thead th {\n",
       "        text-align: right;\n",
       "    }\n",
       "</style>\n",
       "<table border=\"1\" class=\"dataframe\">\n",
       "  <thead>\n",
       "    <tr style=\"text-align: right;\">\n",
       "      <th></th>\n",
       "      <th>A</th>\n",
       "      <th>B</th>\n",
       "      <th>C</th>\n",
       "      <th>D</th>\n",
       "    </tr>\n",
       "  </thead>\n",
       "  <tbody>\n",
       "    <tr>\n",
       "      <th>2023-03-01</th>\n",
       "      <td>-0.070680</td>\n",
       "      <td>0.488183</td>\n",
       "      <td>1.842112</td>\n",
       "      <td>0.464690</td>\n",
       "    </tr>\n",
       "    <tr>\n",
       "      <th>2023-03-02</th>\n",
       "      <td>0.475439</td>\n",
       "      <td>0.592806</td>\n",
       "      <td>1.369885</td>\n",
       "      <td>-0.947044</td>\n",
       "    </tr>\n",
       "    <tr>\n",
       "      <th>2023-03-03</th>\n",
       "      <td>-0.879105</td>\n",
       "      <td>0.318365</td>\n",
       "      <td>-0.082892</td>\n",
       "      <td>-0.708707</td>\n",
       "    </tr>\n",
       "    <tr>\n",
       "      <th>2023-03-04</th>\n",
       "      <td>1.238739</td>\n",
       "      <td>0.611783</td>\n",
       "      <td>-0.905257</td>\n",
       "      <td>0.229430</td>\n",
       "    </tr>\n",
       "    <tr>\n",
       "      <th>2023-03-05</th>\n",
       "      <td>-0.240381</td>\n",
       "      <td>-1.530622</td>\n",
       "      <td>2.822203</td>\n",
       "      <td>0.923120</td>\n",
       "    </tr>\n",
       "  </tbody>\n",
       "</table>\n",
       "</div>"
      ],
      "text/plain": [
       "                   A         B         C         D\n",
       "2023-03-01 -0.070680  0.488183  1.842112  0.464690\n",
       "2023-03-02  0.475439  0.592806  1.369885 -0.947044\n",
       "2023-03-03 -0.879105  0.318365 -0.082892 -0.708707\n",
       "2023-03-04  1.238739  0.611783 -0.905257  0.229430\n",
       "2023-03-05 -0.240381 -1.530622  2.822203  0.923120"
      ]
     },
     "execution_count": 9,
     "metadata": {},
     "output_type": "execute_result"
    }
   ],
   "source": [
    "#Top Five Values at the Top and Buttom\n",
    "df1.head()\n"
   ]
  },
  {
   "cell_type": "code",
   "execution_count": 10,
   "id": "a6e557ce",
   "metadata": {},
   "outputs": [
    {
     "data": {
      "text/html": [
       "<div>\n",
       "<style scoped>\n",
       "    .dataframe tbody tr th:only-of-type {\n",
       "        vertical-align: middle;\n",
       "    }\n",
       "\n",
       "    .dataframe tbody tr th {\n",
       "        vertical-align: top;\n",
       "    }\n",
       "\n",
       "    .dataframe thead th {\n",
       "        text-align: right;\n",
       "    }\n",
       "</style>\n",
       "<table border=\"1\" class=\"dataframe\">\n",
       "  <thead>\n",
       "    <tr style=\"text-align: right;\">\n",
       "      <th></th>\n",
       "      <th>A</th>\n",
       "      <th>B</th>\n",
       "      <th>C</th>\n",
       "      <th>D</th>\n",
       "    </tr>\n",
       "  </thead>\n",
       "  <tbody>\n",
       "    <tr>\n",
       "      <th>2023-03-06</th>\n",
       "      <td>0.878280</td>\n",
       "      <td>-1.138735</td>\n",
       "      <td>-0.905591</td>\n",
       "      <td>0.724961</td>\n",
       "    </tr>\n",
       "    <tr>\n",
       "      <th>2023-03-07</th>\n",
       "      <td>2.059688</td>\n",
       "      <td>0.927920</td>\n",
       "      <td>1.539835</td>\n",
       "      <td>-1.244867</td>\n",
       "    </tr>\n",
       "    <tr>\n",
       "      <th>2023-03-08</th>\n",
       "      <td>0.032422</td>\n",
       "      <td>1.165929</td>\n",
       "      <td>1.213171</td>\n",
       "      <td>0.336323</td>\n",
       "    </tr>\n",
       "    <tr>\n",
       "      <th>2023-03-09</th>\n",
       "      <td>1.409262</td>\n",
       "      <td>-1.781004</td>\n",
       "      <td>-0.062828</td>\n",
       "      <td>-0.285885</td>\n",
       "    </tr>\n",
       "    <tr>\n",
       "      <th>2023-03-10</th>\n",
       "      <td>0.729914</td>\n",
       "      <td>-0.184524</td>\n",
       "      <td>-0.175065</td>\n",
       "      <td>-1.134462</td>\n",
       "    </tr>\n",
       "  </tbody>\n",
       "</table>\n",
       "</div>"
      ],
      "text/plain": [
       "                   A         B         C         D\n",
       "2023-03-06  0.878280 -1.138735 -0.905591  0.724961\n",
       "2023-03-07  2.059688  0.927920  1.539835 -1.244867\n",
       "2023-03-08  0.032422  1.165929  1.213171  0.336323\n",
       "2023-03-09  1.409262 -1.781004 -0.062828 -0.285885\n",
       "2023-03-10  0.729914 -0.184524 -0.175065 -1.134462"
      ]
     },
     "execution_count": 10,
     "metadata": {},
     "output_type": "execute_result"
    }
   ],
   "source": [
    "df1.tail()"
   ]
  },
  {
   "cell_type": "code",
   "execution_count": 11,
   "id": "186d4cca",
   "metadata": {},
   "outputs": [
    {
     "data": {
      "text/plain": [
       "DatetimeIndex(['2023-03-01', '2023-03-02', '2023-03-03', '2023-03-04',\n",
       "               '2023-03-05', '2023-03-06', '2023-03-07', '2023-03-08',\n",
       "               '2023-03-09', '2023-03-10'],\n",
       "              dtype='datetime64[ns]', freq='D')"
      ]
     },
     "execution_count": 11,
     "metadata": {},
     "output_type": "execute_result"
    }
   ],
   "source": [
    "# Tocheck the Index\n",
    "df1.index"
   ]
  },
  {
   "cell_type": "code",
   "execution_count": 12,
   "id": "181c6bc5",
   "metadata": {},
   "outputs": [
    {
     "data": {
      "text/plain": [
       "Index(['A', 'B', 'C', 'D'], dtype='object')"
      ]
     },
     "execution_count": 12,
     "metadata": {},
     "output_type": "execute_result"
    }
   ],
   "source": [
    "# To check the columns\n",
    "df1.columns"
   ]
  },
  {
   "cell_type": "code",
   "execution_count": 13,
   "id": "32eb5195",
   "metadata": {},
   "outputs": [
    {
     "data": {
      "text/plain": [
       "array([[-0.07067995,  0.48818314,  1.84211165,  0.46469041],\n",
       "       [ 0.47543865,  0.59280633,  1.36988468, -0.94704445],\n",
       "       [-0.87910511,  0.31836472, -0.08289211, -0.70870678],\n",
       "       [ 1.23873897,  0.61178316, -0.90525703,  0.22943049],\n",
       "       [-0.24038055, -1.53062224,  2.82220332,  0.92311999],\n",
       "       [ 0.87828034, -1.13873497, -0.90559124,  0.72496058],\n",
       "       [ 2.05968816,  0.92792031,  1.53983464, -1.24486689],\n",
       "       [ 0.03242163,  1.16592855,  1.21317125,  0.33632253],\n",
       "       [ 1.40926181, -1.78100398, -0.06282807, -0.28588513],\n",
       "       [ 0.72991442, -0.18452401, -0.17506485, -1.13446231]])"
      ]
     },
     "execution_count": 13,
     "metadata": {},
     "output_type": "execute_result"
    }
   ],
   "source": [
    "# Convert to Numpy\n",
    "df1.to_numpy()"
   ]
  },
  {
   "cell_type": "code",
   "execution_count": 14,
   "id": "5ace252b",
   "metadata": {},
   "outputs": [
    {
     "data": {
      "text/html": [
       "<div>\n",
       "<style scoped>\n",
       "    .dataframe tbody tr th:only-of-type {\n",
       "        vertical-align: middle;\n",
       "    }\n",
       "\n",
       "    .dataframe tbody tr th {\n",
       "        vertical-align: top;\n",
       "    }\n",
       "\n",
       "    .dataframe thead th {\n",
       "        text-align: right;\n",
       "    }\n",
       "</style>\n",
       "<table border=\"1\" class=\"dataframe\">\n",
       "  <thead>\n",
       "    <tr style=\"text-align: right;\">\n",
       "      <th></th>\n",
       "      <th>A</th>\n",
       "      <th>B</th>\n",
       "      <th>C</th>\n",
       "      <th>D</th>\n",
       "    </tr>\n",
       "  </thead>\n",
       "  <tbody>\n",
       "    <tr>\n",
       "      <th>count</th>\n",
       "      <td>10.000000</td>\n",
       "      <td>10.000000</td>\n",
       "      <td>10.000000</td>\n",
       "      <td>10.000000</td>\n",
       "    </tr>\n",
       "    <tr>\n",
       "      <th>mean</th>\n",
       "      <td>0.563358</td>\n",
       "      <td>-0.052990</td>\n",
       "      <td>0.665557</td>\n",
       "      <td>-0.164244</td>\n",
       "    </tr>\n",
       "    <tr>\n",
       "      <th>std</th>\n",
       "      <td>0.879137</td>\n",
       "      <td>1.059521</td>\n",
       "      <td>1.261791</td>\n",
       "      <td>0.803273</td>\n",
       "    </tr>\n",
       "    <tr>\n",
       "      <th>min</th>\n",
       "      <td>-0.879105</td>\n",
       "      <td>-1.781004</td>\n",
       "      <td>-0.905591</td>\n",
       "      <td>-1.244867</td>\n",
       "    </tr>\n",
       "    <tr>\n",
       "      <th>25%</th>\n",
       "      <td>-0.044905</td>\n",
       "      <td>-0.900182</td>\n",
       "      <td>-0.152022</td>\n",
       "      <td>-0.887460</td>\n",
       "    </tr>\n",
       "    <tr>\n",
       "      <th>50%</th>\n",
       "      <td>0.602677</td>\n",
       "      <td>0.403274</td>\n",
       "      <td>0.575172</td>\n",
       "      <td>-0.028227</td>\n",
       "    </tr>\n",
       "    <tr>\n",
       "      <th>75%</th>\n",
       "      <td>1.148624</td>\n",
       "      <td>0.607039</td>\n",
       "      <td>1.497347</td>\n",
       "      <td>0.432598</td>\n",
       "    </tr>\n",
       "    <tr>\n",
       "      <th>max</th>\n",
       "      <td>2.059688</td>\n",
       "      <td>1.165929</td>\n",
       "      <td>2.822203</td>\n",
       "      <td>0.923120</td>\n",
       "    </tr>\n",
       "  </tbody>\n",
       "</table>\n",
       "</div>"
      ],
      "text/plain": [
       "               A          B          C          D\n",
       "count  10.000000  10.000000  10.000000  10.000000\n",
       "mean    0.563358  -0.052990   0.665557  -0.164244\n",
       "std     0.879137   1.059521   1.261791   0.803273\n",
       "min    -0.879105  -1.781004  -0.905591  -1.244867\n",
       "25%    -0.044905  -0.900182  -0.152022  -0.887460\n",
       "50%     0.602677   0.403274   0.575172  -0.028227\n",
       "75%     1.148624   0.607039   1.497347   0.432598\n",
       "max     2.059688   1.165929   2.822203   0.923120"
      ]
     },
     "execution_count": 14,
     "metadata": {},
     "output_type": "execute_result"
    }
   ],
   "source": [
    "# To show the statistic\n",
    "df1.describe()"
   ]
  },
  {
   "cell_type": "markdown",
   "id": "caab83f2",
   "metadata": {},
   "source": [
    "## Sort in Pandas"
   ]
  },
  {
   "cell_type": "code",
   "execution_count": 15,
   "id": "1a0c7f64",
   "metadata": {},
   "outputs": [
    {
     "data": {
      "text/html": [
       "<div>\n",
       "<style scoped>\n",
       "    .dataframe tbody tr th:only-of-type {\n",
       "        vertical-align: middle;\n",
       "    }\n",
       "\n",
       "    .dataframe tbody tr th {\n",
       "        vertical-align: top;\n",
       "    }\n",
       "\n",
       "    .dataframe thead th {\n",
       "        text-align: right;\n",
       "    }\n",
       "</style>\n",
       "<table border=\"1\" class=\"dataframe\">\n",
       "  <thead>\n",
       "    <tr style=\"text-align: right;\">\n",
       "      <th></th>\n",
       "      <th>D</th>\n",
       "      <th>C</th>\n",
       "      <th>B</th>\n",
       "      <th>A</th>\n",
       "    </tr>\n",
       "  </thead>\n",
       "  <tbody>\n",
       "    <tr>\n",
       "      <th>2023-03-01</th>\n",
       "      <td>0.464690</td>\n",
       "      <td>1.842112</td>\n",
       "      <td>0.488183</td>\n",
       "      <td>-0.070680</td>\n",
       "    </tr>\n",
       "    <tr>\n",
       "      <th>2023-03-02</th>\n",
       "      <td>-0.947044</td>\n",
       "      <td>1.369885</td>\n",
       "      <td>0.592806</td>\n",
       "      <td>0.475439</td>\n",
       "    </tr>\n",
       "    <tr>\n",
       "      <th>2023-03-03</th>\n",
       "      <td>-0.708707</td>\n",
       "      <td>-0.082892</td>\n",
       "      <td>0.318365</td>\n",
       "      <td>-0.879105</td>\n",
       "    </tr>\n",
       "    <tr>\n",
       "      <th>2023-03-04</th>\n",
       "      <td>0.229430</td>\n",
       "      <td>-0.905257</td>\n",
       "      <td>0.611783</td>\n",
       "      <td>1.238739</td>\n",
       "    </tr>\n",
       "    <tr>\n",
       "      <th>2023-03-05</th>\n",
       "      <td>0.923120</td>\n",
       "      <td>2.822203</td>\n",
       "      <td>-1.530622</td>\n",
       "      <td>-0.240381</td>\n",
       "    </tr>\n",
       "    <tr>\n",
       "      <th>2023-03-06</th>\n",
       "      <td>0.724961</td>\n",
       "      <td>-0.905591</td>\n",
       "      <td>-1.138735</td>\n",
       "      <td>0.878280</td>\n",
       "    </tr>\n",
       "    <tr>\n",
       "      <th>2023-03-07</th>\n",
       "      <td>-1.244867</td>\n",
       "      <td>1.539835</td>\n",
       "      <td>0.927920</td>\n",
       "      <td>2.059688</td>\n",
       "    </tr>\n",
       "    <tr>\n",
       "      <th>2023-03-08</th>\n",
       "      <td>0.336323</td>\n",
       "      <td>1.213171</td>\n",
       "      <td>1.165929</td>\n",
       "      <td>0.032422</td>\n",
       "    </tr>\n",
       "    <tr>\n",
       "      <th>2023-03-09</th>\n",
       "      <td>-0.285885</td>\n",
       "      <td>-0.062828</td>\n",
       "      <td>-1.781004</td>\n",
       "      <td>1.409262</td>\n",
       "    </tr>\n",
       "    <tr>\n",
       "      <th>2023-03-10</th>\n",
       "      <td>-1.134462</td>\n",
       "      <td>-0.175065</td>\n",
       "      <td>-0.184524</td>\n",
       "      <td>0.729914</td>\n",
       "    </tr>\n",
       "  </tbody>\n",
       "</table>\n",
       "</div>"
      ],
      "text/plain": [
       "                   D         C         B         A\n",
       "2023-03-01  0.464690  1.842112  0.488183 -0.070680\n",
       "2023-03-02 -0.947044  1.369885  0.592806  0.475439\n",
       "2023-03-03 -0.708707 -0.082892  0.318365 -0.879105\n",
       "2023-03-04  0.229430 -0.905257  0.611783  1.238739\n",
       "2023-03-05  0.923120  2.822203 -1.530622 -0.240381\n",
       "2023-03-06  0.724961 -0.905591 -1.138735  0.878280\n",
       "2023-03-07 -1.244867  1.539835  0.927920  2.059688\n",
       "2023-03-08  0.336323  1.213171  1.165929  0.032422\n",
       "2023-03-09 -0.285885 -0.062828 -1.781004  1.409262\n",
       "2023-03-10 -1.134462 -0.175065 -0.184524  0.729914"
      ]
     },
     "execution_count": 15,
     "metadata": {},
     "output_type": "execute_result"
    }
   ],
   "source": [
    "# Sort Using Index\n",
    "df1.sort_index(axis=1, ascending=False)"
   ]
  },
  {
   "cell_type": "code",
   "execution_count": 16,
   "id": "ea61ee8b",
   "metadata": {},
   "outputs": [
    {
     "data": {
      "text/html": [
       "<div>\n",
       "<style scoped>\n",
       "    .dataframe tbody tr th:only-of-type {\n",
       "        vertical-align: middle;\n",
       "    }\n",
       "\n",
       "    .dataframe tbody tr th {\n",
       "        vertical-align: top;\n",
       "    }\n",
       "\n",
       "    .dataframe thead th {\n",
       "        text-align: right;\n",
       "    }\n",
       "</style>\n",
       "<table border=\"1\" class=\"dataframe\">\n",
       "  <thead>\n",
       "    <tr style=\"text-align: right;\">\n",
       "      <th></th>\n",
       "      <th>A</th>\n",
       "      <th>B</th>\n",
       "      <th>C</th>\n",
       "      <th>D</th>\n",
       "    </tr>\n",
       "  </thead>\n",
       "  <tbody>\n",
       "    <tr>\n",
       "      <th>2023-03-09</th>\n",
       "      <td>1.409262</td>\n",
       "      <td>-1.781004</td>\n",
       "      <td>-0.062828</td>\n",
       "      <td>-0.285885</td>\n",
       "    </tr>\n",
       "    <tr>\n",
       "      <th>2023-03-05</th>\n",
       "      <td>-0.240381</td>\n",
       "      <td>-1.530622</td>\n",
       "      <td>2.822203</td>\n",
       "      <td>0.923120</td>\n",
       "    </tr>\n",
       "    <tr>\n",
       "      <th>2023-03-06</th>\n",
       "      <td>0.878280</td>\n",
       "      <td>-1.138735</td>\n",
       "      <td>-0.905591</td>\n",
       "      <td>0.724961</td>\n",
       "    </tr>\n",
       "    <tr>\n",
       "      <th>2023-03-10</th>\n",
       "      <td>0.729914</td>\n",
       "      <td>-0.184524</td>\n",
       "      <td>-0.175065</td>\n",
       "      <td>-1.134462</td>\n",
       "    </tr>\n",
       "    <tr>\n",
       "      <th>2023-03-03</th>\n",
       "      <td>-0.879105</td>\n",
       "      <td>0.318365</td>\n",
       "      <td>-0.082892</td>\n",
       "      <td>-0.708707</td>\n",
       "    </tr>\n",
       "    <tr>\n",
       "      <th>2023-03-01</th>\n",
       "      <td>-0.070680</td>\n",
       "      <td>0.488183</td>\n",
       "      <td>1.842112</td>\n",
       "      <td>0.464690</td>\n",
       "    </tr>\n",
       "    <tr>\n",
       "      <th>2023-03-02</th>\n",
       "      <td>0.475439</td>\n",
       "      <td>0.592806</td>\n",
       "      <td>1.369885</td>\n",
       "      <td>-0.947044</td>\n",
       "    </tr>\n",
       "    <tr>\n",
       "      <th>2023-03-04</th>\n",
       "      <td>1.238739</td>\n",
       "      <td>0.611783</td>\n",
       "      <td>-0.905257</td>\n",
       "      <td>0.229430</td>\n",
       "    </tr>\n",
       "    <tr>\n",
       "      <th>2023-03-07</th>\n",
       "      <td>2.059688</td>\n",
       "      <td>0.927920</td>\n",
       "      <td>1.539835</td>\n",
       "      <td>-1.244867</td>\n",
       "    </tr>\n",
       "    <tr>\n",
       "      <th>2023-03-08</th>\n",
       "      <td>0.032422</td>\n",
       "      <td>1.165929</td>\n",
       "      <td>1.213171</td>\n",
       "      <td>0.336323</td>\n",
       "    </tr>\n",
       "  </tbody>\n",
       "</table>\n",
       "</div>"
      ],
      "text/plain": [
       "                   A         B         C         D\n",
       "2023-03-09  1.409262 -1.781004 -0.062828 -0.285885\n",
       "2023-03-05 -0.240381 -1.530622  2.822203  0.923120\n",
       "2023-03-06  0.878280 -1.138735 -0.905591  0.724961\n",
       "2023-03-10  0.729914 -0.184524 -0.175065 -1.134462\n",
       "2023-03-03 -0.879105  0.318365 -0.082892 -0.708707\n",
       "2023-03-01 -0.070680  0.488183  1.842112  0.464690\n",
       "2023-03-02  0.475439  0.592806  1.369885 -0.947044\n",
       "2023-03-04  1.238739  0.611783 -0.905257  0.229430\n",
       "2023-03-07  2.059688  0.927920  1.539835 -1.244867\n",
       "2023-03-08  0.032422  1.165929  1.213171  0.336323"
      ]
     },
     "execution_count": 16,
     "metadata": {},
     "output_type": "execute_result"
    }
   ],
   "source": [
    "# Sort Using the Column\n",
    "df1.sort_values(by='B')"
   ]
  },
  {
   "cell_type": "markdown",
   "id": "43401cd7",
   "metadata": {},
   "source": [
    "## SELECTING FROM THE DATAFRAME"
   ]
  },
  {
   "cell_type": "code",
   "execution_count": 17,
   "id": "26abcb1a",
   "metadata": {},
   "outputs": [
    {
     "data": {
      "text/plain": [
       "2023-03-01    0.464690\n",
       "2023-03-02   -0.947044\n",
       "2023-03-03   -0.708707\n",
       "2023-03-04    0.229430\n",
       "2023-03-05    0.923120\n",
       "2023-03-06    0.724961\n",
       "2023-03-07   -1.244867\n",
       "2023-03-08    0.336323\n",
       "2023-03-09   -0.285885\n",
       "2023-03-10   -1.134462\n",
       "Freq: D, Name: D, dtype: float64"
      ]
     },
     "execution_count": 17,
     "metadata": {},
     "output_type": "execute_result"
    }
   ],
   "source": [
    "#Selecting a Sing Column from the Dataframe\n",
    "df1['D']"
   ]
  },
  {
   "cell_type": "code",
   "execution_count": 18,
   "id": "b9df99e7",
   "metadata": {},
   "outputs": [
    {
     "data": {
      "text/html": [
       "<div>\n",
       "<style scoped>\n",
       "    .dataframe tbody tr th:only-of-type {\n",
       "        vertical-align: middle;\n",
       "    }\n",
       "\n",
       "    .dataframe tbody tr th {\n",
       "        vertical-align: top;\n",
       "    }\n",
       "\n",
       "    .dataframe thead th {\n",
       "        text-align: right;\n",
       "    }\n",
       "</style>\n",
       "<table border=\"1\" class=\"dataframe\">\n",
       "  <thead>\n",
       "    <tr style=\"text-align: right;\">\n",
       "      <th></th>\n",
       "      <th>A</th>\n",
       "      <th>B</th>\n",
       "      <th>C</th>\n",
       "      <th>D</th>\n",
       "    </tr>\n",
       "  </thead>\n",
       "  <tbody>\n",
       "    <tr>\n",
       "      <th>2023-03-01</th>\n",
       "      <td>-0.070680</td>\n",
       "      <td>0.488183</td>\n",
       "      <td>1.842112</td>\n",
       "      <td>0.464690</td>\n",
       "    </tr>\n",
       "    <tr>\n",
       "      <th>2023-03-02</th>\n",
       "      <td>0.475439</td>\n",
       "      <td>0.592806</td>\n",
       "      <td>1.369885</td>\n",
       "      <td>-0.947044</td>\n",
       "    </tr>\n",
       "    <tr>\n",
       "      <th>2023-03-03</th>\n",
       "      <td>-0.879105</td>\n",
       "      <td>0.318365</td>\n",
       "      <td>-0.082892</td>\n",
       "      <td>-0.708707</td>\n",
       "    </tr>\n",
       "  </tbody>\n",
       "</table>\n",
       "</div>"
      ],
      "text/plain": [
       "                   A         B         C         D\n",
       "2023-03-01 -0.070680  0.488183  1.842112  0.464690\n",
       "2023-03-02  0.475439  0.592806  1.369885 -0.947044\n",
       "2023-03-03 -0.879105  0.318365 -0.082892 -0.708707"
      ]
     },
     "execution_count": 18,
     "metadata": {},
     "output_type": "execute_result"
    }
   ],
   "source": [
    "# To select specific row. Use Slicing\n",
    "df1[0:3]"
   ]
  },
  {
   "cell_type": "code",
   "execution_count": 89,
   "id": "eb719d2d",
   "metadata": {},
   "outputs": [
    {
     "data": {
      "text/plain": [
       "A    0.475439\n",
       "B    0.592806\n",
       "C    1.369885\n",
       "D   -0.947044\n",
       "Name: 2023-03-02 00:00:00, dtype: float64"
      ]
     },
     "execution_count": 89,
     "metadata": {},
     "output_type": "execute_result"
    }
   ],
   "source": [
    "# To select individual row Using the loc function; From the first Row.\n",
    "df1.loc[d[1]]"
   ]
  },
  {
   "cell_type": "code",
   "execution_count": 20,
   "id": "4a4e7440",
   "metadata": {},
   "outputs": [
    {
     "data": {
      "text/html": [
       "<div>\n",
       "<style scoped>\n",
       "    .dataframe tbody tr th:only-of-type {\n",
       "        vertical-align: middle;\n",
       "    }\n",
       "\n",
       "    .dataframe tbody tr th {\n",
       "        vertical-align: top;\n",
       "    }\n",
       "\n",
       "    .dataframe thead th {\n",
       "        text-align: right;\n",
       "    }\n",
       "</style>\n",
       "<table border=\"1\" class=\"dataframe\">\n",
       "  <thead>\n",
       "    <tr style=\"text-align: right;\">\n",
       "      <th></th>\n",
       "      <th>A</th>\n",
       "      <th>D</th>\n",
       "    </tr>\n",
       "  </thead>\n",
       "  <tbody>\n",
       "    <tr>\n",
       "      <th>2023-03-01</th>\n",
       "      <td>-0.070680</td>\n",
       "      <td>0.464690</td>\n",
       "    </tr>\n",
       "    <tr>\n",
       "      <th>2023-03-02</th>\n",
       "      <td>0.475439</td>\n",
       "      <td>-0.947044</td>\n",
       "    </tr>\n",
       "    <tr>\n",
       "      <th>2023-03-03</th>\n",
       "      <td>-0.879105</td>\n",
       "      <td>-0.708707</td>\n",
       "    </tr>\n",
       "    <tr>\n",
       "      <th>2023-03-04</th>\n",
       "      <td>1.238739</td>\n",
       "      <td>0.229430</td>\n",
       "    </tr>\n",
       "    <tr>\n",
       "      <th>2023-03-05</th>\n",
       "      <td>-0.240381</td>\n",
       "      <td>0.923120</td>\n",
       "    </tr>\n",
       "    <tr>\n",
       "      <th>2023-03-06</th>\n",
       "      <td>0.878280</td>\n",
       "      <td>0.724961</td>\n",
       "    </tr>\n",
       "    <tr>\n",
       "      <th>2023-03-07</th>\n",
       "      <td>2.059688</td>\n",
       "      <td>-1.244867</td>\n",
       "    </tr>\n",
       "    <tr>\n",
       "      <th>2023-03-08</th>\n",
       "      <td>0.032422</td>\n",
       "      <td>0.336323</td>\n",
       "    </tr>\n",
       "    <tr>\n",
       "      <th>2023-03-09</th>\n",
       "      <td>1.409262</td>\n",
       "      <td>-0.285885</td>\n",
       "    </tr>\n",
       "    <tr>\n",
       "      <th>2023-03-10</th>\n",
       "      <td>0.729914</td>\n",
       "      <td>-1.134462</td>\n",
       "    </tr>\n",
       "  </tbody>\n",
       "</table>\n",
       "</div>"
      ],
      "text/plain": [
       "                   A         D\n",
       "2023-03-01 -0.070680  0.464690\n",
       "2023-03-02  0.475439 -0.947044\n",
       "2023-03-03 -0.879105 -0.708707\n",
       "2023-03-04  1.238739  0.229430\n",
       "2023-03-05 -0.240381  0.923120\n",
       "2023-03-06  0.878280  0.724961\n",
       "2023-03-07  2.059688 -1.244867\n",
       "2023-03-08  0.032422  0.336323\n",
       "2023-03-09  1.409262 -0.285885\n",
       "2023-03-10  0.729914 -1.134462"
      ]
     },
     "execution_count": 20,
     "metadata": {},
     "output_type": "execute_result"
    }
   ],
   "source": [
    "# Selecting data by nultipe choices\n",
    "df1.loc[:,['A', 'D']]"
   ]
  },
  {
   "cell_type": "code",
   "execution_count": 21,
   "id": "a0a8f346",
   "metadata": {},
   "outputs": [
    {
     "data": {
      "text/html": [
       "<div>\n",
       "<style scoped>\n",
       "    .dataframe tbody tr th:only-of-type {\n",
       "        vertical-align: middle;\n",
       "    }\n",
       "\n",
       "    .dataframe tbody tr th {\n",
       "        vertical-align: top;\n",
       "    }\n",
       "\n",
       "    .dataframe thead th {\n",
       "        text-align: right;\n",
       "    }\n",
       "</style>\n",
       "<table border=\"1\" class=\"dataframe\">\n",
       "  <thead>\n",
       "    <tr style=\"text-align: right;\">\n",
       "      <th></th>\n",
       "      <th>A</th>\n",
       "      <th>D</th>\n",
       "    </tr>\n",
       "  </thead>\n",
       "  <tbody>\n",
       "    <tr>\n",
       "      <th>2023-03-02</th>\n",
       "      <td>0.475439</td>\n",
       "      <td>-0.947044</td>\n",
       "    </tr>\n",
       "    <tr>\n",
       "      <th>2023-03-03</th>\n",
       "      <td>-0.879105</td>\n",
       "      <td>-0.708707</td>\n",
       "    </tr>\n",
       "    <tr>\n",
       "      <th>2023-03-04</th>\n",
       "      <td>1.238739</td>\n",
       "      <td>0.229430</td>\n",
       "    </tr>\n",
       "    <tr>\n",
       "      <th>2023-03-05</th>\n",
       "      <td>-0.240381</td>\n",
       "      <td>0.923120</td>\n",
       "    </tr>\n",
       "    <tr>\n",
       "      <th>2023-03-06</th>\n",
       "      <td>0.878280</td>\n",
       "      <td>0.724961</td>\n",
       "    </tr>\n",
       "  </tbody>\n",
       "</table>\n",
       "</div>"
      ],
      "text/plain": [
       "                   A         D\n",
       "2023-03-02  0.475439 -0.947044\n",
       "2023-03-03 -0.879105 -0.708707\n",
       "2023-03-04  1.238739  0.229430\n",
       "2023-03-05 -0.240381  0.923120\n",
       "2023-03-06  0.878280  0.724961"
      ]
     },
     "execution_count": 21,
     "metadata": {},
     "output_type": "execute_result"
    }
   ],
   "source": [
    "# To select a range in the above list, just add the time index\n",
    "df1.loc['20230302':'20230306',['A', 'D']]"
   ]
  },
  {
   "cell_type": "code",
   "execution_count": 22,
   "id": "32718490",
   "metadata": {},
   "outputs": [
    {
     "data": {
      "text/plain": [
       "B   -1.138735\n",
       "D    0.724961\n",
       "Name: 2023-03-06 00:00:00, dtype: float64"
      ]
     },
     "execution_count": 22,
     "metadata": {},
     "output_type": "execute_result"
    }
   ],
   "source": [
    "# To get each or specific Value \n",
    "df1.loc['20230306',['B', 'D']]"
   ]
  },
  {
   "cell_type": "code",
   "execution_count": 84,
   "id": "6470166f",
   "metadata": {},
   "outputs": [
    {
     "data": {
      "text/plain": [
       "0.22943048524620904"
      ]
     },
     "execution_count": 84,
     "metadata": {},
     "output_type": "execute_result"
    }
   ],
   "source": [
    "# Geting the exact value at a particular row\n",
    "df1.at[d[3], 'D']"
   ]
  },
  {
   "cell_type": "code",
   "execution_count": 24,
   "id": "ffa2ec8c",
   "metadata": {},
   "outputs": [
    {
     "data": {
      "text/plain": [
       "A    1.238739\n",
       "B    0.611783\n",
       "C   -0.905257\n",
       "D    0.229430\n",
       "Name: 2023-03-04 00:00:00, dtype: float64"
      ]
     },
     "execution_count": 24,
     "metadata": {},
     "output_type": "execute_result"
    }
   ],
   "source": [
    "# Get the values using the position in the DataFrame\n",
    "df1.iloc[3]"
   ]
  },
  {
   "cell_type": "code",
   "execution_count": 93,
   "id": "e79af552",
   "metadata": {},
   "outputs": [
    {
     "data": {
      "text/html": [
       "<div>\n",
       "<style scoped>\n",
       "    .dataframe tbody tr th:only-of-type {\n",
       "        vertical-align: middle;\n",
       "    }\n",
       "\n",
       "    .dataframe tbody tr th {\n",
       "        vertical-align: top;\n",
       "    }\n",
       "\n",
       "    .dataframe thead th {\n",
       "        text-align: right;\n",
       "    }\n",
       "</style>\n",
       "<table border=\"1\" class=\"dataframe\">\n",
       "  <thead>\n",
       "    <tr style=\"text-align: right;\">\n",
       "      <th></th>\n",
       "      <th>B</th>\n",
       "      <th>C</th>\n",
       "      <th>D</th>\n",
       "    </tr>\n",
       "  </thead>\n",
       "  <tbody>\n",
       "    <tr>\n",
       "      <th>2023-03-04</th>\n",
       "      <td>0.611783</td>\n",
       "      <td>-0.905257</td>\n",
       "      <td>0.22943</td>\n",
       "    </tr>\n",
       "    <tr>\n",
       "      <th>2023-03-05</th>\n",
       "      <td>-1.530622</td>\n",
       "      <td>2.822203</td>\n",
       "      <td>0.92312</td>\n",
       "    </tr>\n",
       "  </tbody>\n",
       "</table>\n",
       "</div>"
      ],
      "text/plain": [
       "                   B         C        D\n",
       "2023-03-04  0.611783 -0.905257  0.22943\n",
       "2023-03-05 -1.530622  2.822203  0.92312"
      ]
     },
     "execution_count": 93,
     "metadata": {},
     "output_type": "execute_result"
    }
   ],
   "source": [
    "df1.iloc[3:5, 1:5]"
   ]
  },
  {
   "cell_type": "code",
   "execution_count": 94,
   "id": "0947fb96",
   "metadata": {},
   "outputs": [
    {
     "data": {
      "text/html": [
       "<div>\n",
       "<style scoped>\n",
       "    .dataframe tbody tr th:only-of-type {\n",
       "        vertical-align: middle;\n",
       "    }\n",
       "\n",
       "    .dataframe tbody tr th {\n",
       "        vertical-align: top;\n",
       "    }\n",
       "\n",
       "    .dataframe thead th {\n",
       "        text-align: right;\n",
       "    }\n",
       "</style>\n",
       "<table border=\"1\" class=\"dataframe\">\n",
       "  <thead>\n",
       "    <tr style=\"text-align: right;\">\n",
       "      <th></th>\n",
       "      <th>B</th>\n",
       "      <th>C</th>\n",
       "      <th>D</th>\n",
       "    </tr>\n",
       "  </thead>\n",
       "  <tbody>\n",
       "    <tr>\n",
       "      <th>2023-03-04</th>\n",
       "      <td>0.611783</td>\n",
       "      <td>-0.905257</td>\n",
       "      <td>0.229430</td>\n",
       "    </tr>\n",
       "    <tr>\n",
       "      <th>2023-03-05</th>\n",
       "      <td>-1.530622</td>\n",
       "      <td>2.822203</td>\n",
       "      <td>0.923120</td>\n",
       "    </tr>\n",
       "    <tr>\n",
       "      <th>2023-03-06</th>\n",
       "      <td>-1.138735</td>\n",
       "      <td>-0.905591</td>\n",
       "      <td>0.724961</td>\n",
       "    </tr>\n",
       "  </tbody>\n",
       "</table>\n",
       "</div>"
      ],
      "text/plain": [
       "                   B         C         D\n",
       "2023-03-04  0.611783 -0.905257  0.229430\n",
       "2023-03-05 -1.530622  2.822203  0.923120\n",
       "2023-03-06 -1.138735 -0.905591  0.724961"
      ]
     },
     "execution_count": 94,
     "metadata": {},
     "output_type": "execute_result"
    }
   ],
   "source": [
    "df1.loc[d[3]:d[5], ['B','C','D']]"
   ]
  },
  {
   "cell_type": "code",
   "execution_count": 26,
   "id": "186da134",
   "metadata": {},
   "outputs": [
    {
     "data": {
      "text/html": [
       "<div>\n",
       "<style scoped>\n",
       "    .dataframe tbody tr th:only-of-type {\n",
       "        vertical-align: middle;\n",
       "    }\n",
       "\n",
       "    .dataframe tbody tr th {\n",
       "        vertical-align: top;\n",
       "    }\n",
       "\n",
       "    .dataframe thead th {\n",
       "        text-align: right;\n",
       "    }\n",
       "</style>\n",
       "<table border=\"1\" class=\"dataframe\">\n",
       "  <thead>\n",
       "    <tr style=\"text-align: right;\">\n",
       "      <th></th>\n",
       "      <th>A</th>\n",
       "      <th>B</th>\n",
       "      <th>C</th>\n",
       "      <th>D</th>\n",
       "    </tr>\n",
       "  </thead>\n",
       "  <tbody>\n",
       "    <tr>\n",
       "      <th>2023-03-08</th>\n",
       "      <td>0.032422</td>\n",
       "      <td>1.165929</td>\n",
       "      <td>1.213171</td>\n",
       "      <td>0.336323</td>\n",
       "    </tr>\n",
       "  </tbody>\n",
       "</table>\n",
       "</div>"
      ],
      "text/plain": [
       "                   A         B         C         D\n",
       "2023-03-08  0.032422  1.165929  1.213171  0.336323"
      ]
     },
     "execution_count": 26,
     "metadata": {},
     "output_type": "execute_result"
    }
   ],
   "source": [
    "# Get group of values greater or less than\n",
    "df1[df1['B'] > 1]"
   ]
  },
  {
   "cell_type": "markdown",
   "id": "02f9fe70",
   "metadata": {},
   "source": [
    "## How to handle Missing Values"
   ]
  },
  {
   "cell_type": "code",
   "execution_count": 95,
   "id": "15c709fa",
   "metadata": {},
   "outputs": [],
   "source": [
    "# Using df1, lets create a new datafram from the previous \n",
    "df3 = df1.reindex(index=d[0:4], columns=list(df1.columns) + ['E'])"
   ]
  },
  {
   "cell_type": "code",
   "execution_count": 28,
   "id": "765054cd",
   "metadata": {},
   "outputs": [
    {
     "data": {
      "text/html": [
       "<div>\n",
       "<style scoped>\n",
       "    .dataframe tbody tr th:only-of-type {\n",
       "        vertical-align: middle;\n",
       "    }\n",
       "\n",
       "    .dataframe tbody tr th {\n",
       "        vertical-align: top;\n",
       "    }\n",
       "\n",
       "    .dataframe thead th {\n",
       "        text-align: right;\n",
       "    }\n",
       "</style>\n",
       "<table border=\"1\" class=\"dataframe\">\n",
       "  <thead>\n",
       "    <tr style=\"text-align: right;\">\n",
       "      <th></th>\n",
       "      <th>A</th>\n",
       "      <th>B</th>\n",
       "      <th>C</th>\n",
       "      <th>D</th>\n",
       "      <th>E</th>\n",
       "    </tr>\n",
       "  </thead>\n",
       "  <tbody>\n",
       "    <tr>\n",
       "      <th>2023-03-01</th>\n",
       "      <td>-0.070680</td>\n",
       "      <td>0.488183</td>\n",
       "      <td>1.842112</td>\n",
       "      <td>0.464690</td>\n",
       "      <td>1.0</td>\n",
       "    </tr>\n",
       "    <tr>\n",
       "      <th>2023-03-02</th>\n",
       "      <td>0.475439</td>\n",
       "      <td>0.592806</td>\n",
       "      <td>1.369885</td>\n",
       "      <td>-0.947044</td>\n",
       "      <td>1.0</td>\n",
       "    </tr>\n",
       "    <tr>\n",
       "      <th>2023-03-03</th>\n",
       "      <td>-0.879105</td>\n",
       "      <td>0.318365</td>\n",
       "      <td>-0.082892</td>\n",
       "      <td>-0.708707</td>\n",
       "      <td>NaN</td>\n",
       "    </tr>\n",
       "    <tr>\n",
       "      <th>2023-03-04</th>\n",
       "      <td>1.238739</td>\n",
       "      <td>0.611783</td>\n",
       "      <td>-0.905257</td>\n",
       "      <td>0.229430</td>\n",
       "      <td>NaN</td>\n",
       "    </tr>\n",
       "  </tbody>\n",
       "</table>\n",
       "</div>"
      ],
      "text/plain": [
       "                   A         B         C         D    E\n",
       "2023-03-01 -0.070680  0.488183  1.842112  0.464690  1.0\n",
       "2023-03-02  0.475439  0.592806  1.369885 -0.947044  1.0\n",
       "2023-03-03 -0.879105  0.318365 -0.082892 -0.708707  NaN\n",
       "2023-03-04  1.238739  0.611783 -0.905257  0.229430  NaN"
      ]
     },
     "execution_count": 28,
     "metadata": {},
     "output_type": "execute_result"
    }
   ],
   "source": [
    "df3.loc[d[0] : d[1], 'E'] = 1\n",
    "\n",
    "df3"
   ]
  },
  {
   "cell_type": "code",
   "execution_count": 29,
   "id": "bde2000a",
   "metadata": {},
   "outputs": [
    {
     "data": {
      "text/html": [
       "<div>\n",
       "<style scoped>\n",
       "    .dataframe tbody tr th:only-of-type {\n",
       "        vertical-align: middle;\n",
       "    }\n",
       "\n",
       "    .dataframe tbody tr th {\n",
       "        vertical-align: top;\n",
       "    }\n",
       "\n",
       "    .dataframe thead th {\n",
       "        text-align: right;\n",
       "    }\n",
       "</style>\n",
       "<table border=\"1\" class=\"dataframe\">\n",
       "  <thead>\n",
       "    <tr style=\"text-align: right;\">\n",
       "      <th></th>\n",
       "      <th>A</th>\n",
       "      <th>B</th>\n",
       "      <th>C</th>\n",
       "      <th>D</th>\n",
       "      <th>E</th>\n",
       "    </tr>\n",
       "  </thead>\n",
       "  <tbody>\n",
       "    <tr>\n",
       "      <th>2023-03-01</th>\n",
       "      <td>False</td>\n",
       "      <td>False</td>\n",
       "      <td>False</td>\n",
       "      <td>False</td>\n",
       "      <td>False</td>\n",
       "    </tr>\n",
       "    <tr>\n",
       "      <th>2023-03-02</th>\n",
       "      <td>False</td>\n",
       "      <td>False</td>\n",
       "      <td>False</td>\n",
       "      <td>False</td>\n",
       "      <td>False</td>\n",
       "    </tr>\n",
       "    <tr>\n",
       "      <th>2023-03-03</th>\n",
       "      <td>False</td>\n",
       "      <td>False</td>\n",
       "      <td>False</td>\n",
       "      <td>False</td>\n",
       "      <td>True</td>\n",
       "    </tr>\n",
       "    <tr>\n",
       "      <th>2023-03-04</th>\n",
       "      <td>False</td>\n",
       "      <td>False</td>\n",
       "      <td>False</td>\n",
       "      <td>False</td>\n",
       "      <td>True</td>\n",
       "    </tr>\n",
       "  </tbody>\n",
       "</table>\n",
       "</div>"
      ],
      "text/plain": [
       "                A      B      C      D      E\n",
       "2023-03-01  False  False  False  False  False\n",
       "2023-03-02  False  False  False  False  False\n",
       "2023-03-03  False  False  False  False   True\n",
       "2023-03-04  False  False  False  False   True"
      ]
     },
     "execution_count": 29,
     "metadata": {},
     "output_type": "execute_result"
    }
   ],
   "source": [
    "#1.. Check for Null values\n",
    "\n",
    "df3.isnull()"
   ]
  },
  {
   "cell_type": "code",
   "execution_count": 30,
   "id": "df4d8566",
   "metadata": {},
   "outputs": [
    {
     "data": {
      "text/html": [
       "<div>\n",
       "<style scoped>\n",
       "    .dataframe tbody tr th:only-of-type {\n",
       "        vertical-align: middle;\n",
       "    }\n",
       "\n",
       "    .dataframe tbody tr th {\n",
       "        vertical-align: top;\n",
       "    }\n",
       "\n",
       "    .dataframe thead th {\n",
       "        text-align: right;\n",
       "    }\n",
       "</style>\n",
       "<table border=\"1\" class=\"dataframe\">\n",
       "  <thead>\n",
       "    <tr style=\"text-align: right;\">\n",
       "      <th></th>\n",
       "      <th>A</th>\n",
       "      <th>B</th>\n",
       "      <th>C</th>\n",
       "      <th>D</th>\n",
       "      <th>E</th>\n",
       "    </tr>\n",
       "  </thead>\n",
       "  <tbody>\n",
       "    <tr>\n",
       "      <th>2023-03-01</th>\n",
       "      <td>-0.070680</td>\n",
       "      <td>0.488183</td>\n",
       "      <td>1.842112</td>\n",
       "      <td>0.464690</td>\n",
       "      <td>1.0</td>\n",
       "    </tr>\n",
       "    <tr>\n",
       "      <th>2023-03-02</th>\n",
       "      <td>0.475439</td>\n",
       "      <td>0.592806</td>\n",
       "      <td>1.369885</td>\n",
       "      <td>-0.947044</td>\n",
       "      <td>1.0</td>\n",
       "    </tr>\n",
       "    <tr>\n",
       "      <th>2023-03-03</th>\n",
       "      <td>-0.879105</td>\n",
       "      <td>0.318365</td>\n",
       "      <td>-0.082892</td>\n",
       "      <td>-0.708707</td>\n",
       "      <td>NaN</td>\n",
       "    </tr>\n",
       "    <tr>\n",
       "      <th>2023-03-04</th>\n",
       "      <td>1.238739</td>\n",
       "      <td>0.611783</td>\n",
       "      <td>-0.905257</td>\n",
       "      <td>0.229430</td>\n",
       "      <td>NaN</td>\n",
       "    </tr>\n",
       "  </tbody>\n",
       "</table>\n",
       "</div>"
      ],
      "text/plain": [
       "                   A         B         C         D    E\n",
       "2023-03-01 -0.070680  0.488183  1.842112  0.464690  1.0\n",
       "2023-03-02  0.475439  0.592806  1.369885 -0.947044  1.0\n",
       "2023-03-03 -0.879105  0.318365 -0.082892 -0.708707  NaN\n",
       "2023-03-04  1.238739  0.611783 -0.905257  0.229430  NaN"
      ]
     },
     "execution_count": 30,
     "metadata": {},
     "output_type": "execute_result"
    }
   ],
   "source": [
    "#2.. Drop Duplicate Values\n",
    "\n",
    "df3.drop_duplicates()"
   ]
  },
  {
   "cell_type": "code",
   "execution_count": 97,
   "id": "36e82e73",
   "metadata": {},
   "outputs": [
    {
     "data": {
      "text/html": [
       "<div>\n",
       "<style scoped>\n",
       "    .dataframe tbody tr th:only-of-type {\n",
       "        vertical-align: middle;\n",
       "    }\n",
       "\n",
       "    .dataframe tbody tr th {\n",
       "        vertical-align: top;\n",
       "    }\n",
       "\n",
       "    .dataframe thead th {\n",
       "        text-align: right;\n",
       "    }\n",
       "</style>\n",
       "<table border=\"1\" class=\"dataframe\">\n",
       "  <thead>\n",
       "    <tr style=\"text-align: right;\">\n",
       "      <th></th>\n",
       "      <th>A</th>\n",
       "      <th>B</th>\n",
       "      <th>C</th>\n",
       "      <th>D</th>\n",
       "      <th>E</th>\n",
       "    </tr>\n",
       "  </thead>\n",
       "  <tbody>\n",
       "    <tr>\n",
       "      <th>2023-03-01</th>\n",
       "      <td>-0.070680</td>\n",
       "      <td>0.488183</td>\n",
       "      <td>1.842112</td>\n",
       "      <td>0.464690</td>\n",
       "      <td>1.5</td>\n",
       "    </tr>\n",
       "    <tr>\n",
       "      <th>2023-03-02</th>\n",
       "      <td>0.475439</td>\n",
       "      <td>0.592806</td>\n",
       "      <td>1.369885</td>\n",
       "      <td>-0.947044</td>\n",
       "      <td>1.5</td>\n",
       "    </tr>\n",
       "    <tr>\n",
       "      <th>2023-03-03</th>\n",
       "      <td>-0.879105</td>\n",
       "      <td>0.318365</td>\n",
       "      <td>-0.082892</td>\n",
       "      <td>-0.708707</td>\n",
       "      <td>1.5</td>\n",
       "    </tr>\n",
       "    <tr>\n",
       "      <th>2023-03-04</th>\n",
       "      <td>1.238739</td>\n",
       "      <td>0.611783</td>\n",
       "      <td>-0.905257</td>\n",
       "      <td>0.229430</td>\n",
       "      <td>1.5</td>\n",
       "    </tr>\n",
       "  </tbody>\n",
       "</table>\n",
       "</div>"
      ],
      "text/plain": [
       "                   A         B         C         D    E\n",
       "2023-03-01 -0.070680  0.488183  1.842112  0.464690  1.5\n",
       "2023-03-02  0.475439  0.592806  1.369885 -0.947044  1.5\n",
       "2023-03-03 -0.879105  0.318365 -0.082892 -0.708707  1.5\n",
       "2023-03-04  1.238739  0.611783 -0.905257  0.229430  1.5"
      ]
     },
     "execution_count": 97,
     "metadata": {},
     "output_type": "execute_result"
    }
   ],
   "source": [
    "#3.. Fill Null Values\n",
    "df3.fillna(value = 1.5)"
   ]
  },
  {
   "cell_type": "markdown",
   "id": "b471f22e",
   "metadata": {},
   "source": [
    "# DATA OPERATIONS\n"
   ]
  },
  {
   "cell_type": "markdown",
   "id": "9bf61c6a",
   "metadata": {},
   "source": [
    "## Descriptive"
   ]
  },
  {
   "cell_type": "code",
   "execution_count": 32,
   "id": "ecbd9acd",
   "metadata": {},
   "outputs": [
    {
     "data": {
      "text/plain": [
       "A    0.191098\n",
       "B    0.502784\n",
       "C    0.555962\n",
       "D   -0.240408\n",
       "E    1.000000\n",
       "dtype: float64"
      ]
     },
     "execution_count": 32,
     "metadata": {},
     "output_type": "execute_result"
    }
   ],
   "source": [
    "df3.mean()"
   ]
  },
  {
   "cell_type": "code",
   "execution_count": 103,
   "id": "85e9d0d9",
   "metadata": {},
   "outputs": [
    {
     "data": {
      "text/plain": [
       "2023-03-01    NaN\n",
       "2023-03-02    NaN\n",
       "2023-03-03    1.0\n",
       "2023-03-04    2.0\n",
       "2023-03-05    3.0\n",
       "2023-03-06    4.0\n",
       "2023-03-07    5.0\n",
       "2023-03-08    NaN\n",
       "2023-03-09    7.0\n",
       "2023-03-10    8.0\n",
       "Freq: D, dtype: float64"
      ]
     },
     "execution_count": 103,
     "metadata": {},
     "output_type": "execute_result"
    }
   ],
   "source": [
    "# Create Pandas Series\n",
    "s = pd.Series([1,2,3,4,5,np.nan,7,8,9,10], index = d).shift(2)\n",
    "s"
   ]
  },
  {
   "cell_type": "code",
   "execution_count": 34,
   "id": "8d12e55b",
   "metadata": {},
   "outputs": [
    {
     "data": {
      "text/html": [
       "<div>\n",
       "<style scoped>\n",
       "    .dataframe tbody tr th:only-of-type {\n",
       "        vertical-align: middle;\n",
       "    }\n",
       "\n",
       "    .dataframe tbody tr th {\n",
       "        vertical-align: top;\n",
       "    }\n",
       "\n",
       "    .dataframe thead th {\n",
       "        text-align: right;\n",
       "    }\n",
       "</style>\n",
       "<table border=\"1\" class=\"dataframe\">\n",
       "  <thead>\n",
       "    <tr style=\"text-align: right;\">\n",
       "      <th></th>\n",
       "      <th>A</th>\n",
       "      <th>B</th>\n",
       "      <th>C</th>\n",
       "      <th>D</th>\n",
       "    </tr>\n",
       "  </thead>\n",
       "  <tbody>\n",
       "    <tr>\n",
       "      <th>2023-03-01</th>\n",
       "      <td>NaN</td>\n",
       "      <td>NaN</td>\n",
       "      <td>NaN</td>\n",
       "      <td>NaN</td>\n",
       "    </tr>\n",
       "    <tr>\n",
       "      <th>2023-03-02</th>\n",
       "      <td>NaN</td>\n",
       "      <td>NaN</td>\n",
       "      <td>NaN</td>\n",
       "      <td>NaN</td>\n",
       "    </tr>\n",
       "    <tr>\n",
       "      <th>2023-03-03</th>\n",
       "      <td>-1.879105</td>\n",
       "      <td>-0.681635</td>\n",
       "      <td>-1.082892</td>\n",
       "      <td>-1.708707</td>\n",
       "    </tr>\n",
       "    <tr>\n",
       "      <th>2023-03-04</th>\n",
       "      <td>-0.761261</td>\n",
       "      <td>-1.388217</td>\n",
       "      <td>-2.905257</td>\n",
       "      <td>-1.770570</td>\n",
       "    </tr>\n",
       "    <tr>\n",
       "      <th>2023-03-05</th>\n",
       "      <td>-3.240381</td>\n",
       "      <td>-4.530622</td>\n",
       "      <td>-0.177797</td>\n",
       "      <td>-2.076880</td>\n",
       "    </tr>\n",
       "    <tr>\n",
       "      <th>2023-03-06</th>\n",
       "      <td>-3.121720</td>\n",
       "      <td>-5.138735</td>\n",
       "      <td>-4.905591</td>\n",
       "      <td>-3.275039</td>\n",
       "    </tr>\n",
       "    <tr>\n",
       "      <th>2023-03-07</th>\n",
       "      <td>-2.940312</td>\n",
       "      <td>-4.072080</td>\n",
       "      <td>-3.460165</td>\n",
       "      <td>-6.244867</td>\n",
       "    </tr>\n",
       "    <tr>\n",
       "      <th>2023-03-08</th>\n",
       "      <td>NaN</td>\n",
       "      <td>NaN</td>\n",
       "      <td>NaN</td>\n",
       "      <td>NaN</td>\n",
       "    </tr>\n",
       "    <tr>\n",
       "      <th>2023-03-09</th>\n",
       "      <td>-5.590738</td>\n",
       "      <td>-8.781004</td>\n",
       "      <td>-7.062828</td>\n",
       "      <td>-7.285885</td>\n",
       "    </tr>\n",
       "    <tr>\n",
       "      <th>2023-03-10</th>\n",
       "      <td>-7.270086</td>\n",
       "      <td>-8.184524</td>\n",
       "      <td>-8.175065</td>\n",
       "      <td>-9.134462</td>\n",
       "    </tr>\n",
       "  </tbody>\n",
       "</table>\n",
       "</div>"
      ],
      "text/plain": [
       "                   A         B         C         D\n",
       "2023-03-01       NaN       NaN       NaN       NaN\n",
       "2023-03-02       NaN       NaN       NaN       NaN\n",
       "2023-03-03 -1.879105 -0.681635 -1.082892 -1.708707\n",
       "2023-03-04 -0.761261 -1.388217 -2.905257 -1.770570\n",
       "2023-03-05 -3.240381 -4.530622 -0.177797 -2.076880\n",
       "2023-03-06 -3.121720 -5.138735 -4.905591 -3.275039\n",
       "2023-03-07 -2.940312 -4.072080 -3.460165 -6.244867\n",
       "2023-03-08       NaN       NaN       NaN       NaN\n",
       "2023-03-09 -5.590738 -8.781004 -7.062828 -7.285885\n",
       "2023-03-10 -7.270086 -8.184524 -8.175065 -9.134462"
      ]
     },
     "execution_count": 34,
     "metadata": {},
     "output_type": "execute_result"
    }
   ],
   "source": [
    "df1.sub(s, axis='index')"
   ]
  },
  {
   "cell_type": "code",
   "execution_count": 35,
   "id": "5916de82",
   "metadata": {},
   "outputs": [
    {
     "data": {
      "text/html": [
       "<div>\n",
       "<style scoped>\n",
       "    .dataframe tbody tr th:only-of-type {\n",
       "        vertical-align: middle;\n",
       "    }\n",
       "\n",
       "    .dataframe tbody tr th {\n",
       "        vertical-align: top;\n",
       "    }\n",
       "\n",
       "    .dataframe thead th {\n",
       "        text-align: right;\n",
       "    }\n",
       "</style>\n",
       "<table border=\"1\" class=\"dataframe\">\n",
       "  <thead>\n",
       "    <tr style=\"text-align: right;\">\n",
       "      <th></th>\n",
       "      <th>A</th>\n",
       "      <th>B</th>\n",
       "      <th>C</th>\n",
       "      <th>D</th>\n",
       "    </tr>\n",
       "  </thead>\n",
       "  <tbody>\n",
       "    <tr>\n",
       "      <th>2023-03-01</th>\n",
       "      <td>-0.070680</td>\n",
       "      <td>0.488183</td>\n",
       "      <td>1.842112</td>\n",
       "      <td>0.464690</td>\n",
       "    </tr>\n",
       "    <tr>\n",
       "      <th>2023-03-02</th>\n",
       "      <td>0.475439</td>\n",
       "      <td>0.592806</td>\n",
       "      <td>1.369885</td>\n",
       "      <td>-0.947044</td>\n",
       "    </tr>\n",
       "    <tr>\n",
       "      <th>2023-03-03</th>\n",
       "      <td>-0.879105</td>\n",
       "      <td>0.318365</td>\n",
       "      <td>-0.082892</td>\n",
       "      <td>-0.708707</td>\n",
       "    </tr>\n",
       "    <tr>\n",
       "      <th>2023-03-04</th>\n",
       "      <td>1.238739</td>\n",
       "      <td>0.611783</td>\n",
       "      <td>-0.905257</td>\n",
       "      <td>0.229430</td>\n",
       "    </tr>\n",
       "    <tr>\n",
       "      <th>2023-03-05</th>\n",
       "      <td>-0.240381</td>\n",
       "      <td>-1.530622</td>\n",
       "      <td>2.822203</td>\n",
       "      <td>0.923120</td>\n",
       "    </tr>\n",
       "    <tr>\n",
       "      <th>2023-03-06</th>\n",
       "      <td>0.878280</td>\n",
       "      <td>-1.138735</td>\n",
       "      <td>-0.905591</td>\n",
       "      <td>0.724961</td>\n",
       "    </tr>\n",
       "    <tr>\n",
       "      <th>2023-03-07</th>\n",
       "      <td>2.059688</td>\n",
       "      <td>0.927920</td>\n",
       "      <td>1.539835</td>\n",
       "      <td>-1.244867</td>\n",
       "    </tr>\n",
       "    <tr>\n",
       "      <th>2023-03-08</th>\n",
       "      <td>0.032422</td>\n",
       "      <td>1.165929</td>\n",
       "      <td>1.213171</td>\n",
       "      <td>0.336323</td>\n",
       "    </tr>\n",
       "    <tr>\n",
       "      <th>2023-03-09</th>\n",
       "      <td>1.409262</td>\n",
       "      <td>-1.781004</td>\n",
       "      <td>-0.062828</td>\n",
       "      <td>-0.285885</td>\n",
       "    </tr>\n",
       "    <tr>\n",
       "      <th>2023-03-10</th>\n",
       "      <td>0.729914</td>\n",
       "      <td>-0.184524</td>\n",
       "      <td>-0.175065</td>\n",
       "      <td>-1.134462</td>\n",
       "    </tr>\n",
       "  </tbody>\n",
       "</table>\n",
       "</div>"
      ],
      "text/plain": [
       "                   A         B         C         D\n",
       "2023-03-01 -0.070680  0.488183  1.842112  0.464690\n",
       "2023-03-02  0.475439  0.592806  1.369885 -0.947044\n",
       "2023-03-03 -0.879105  0.318365 -0.082892 -0.708707\n",
       "2023-03-04  1.238739  0.611783 -0.905257  0.229430\n",
       "2023-03-05 -0.240381 -1.530622  2.822203  0.923120\n",
       "2023-03-06  0.878280 -1.138735 -0.905591  0.724961\n",
       "2023-03-07  2.059688  0.927920  1.539835 -1.244867\n",
       "2023-03-08  0.032422  1.165929  1.213171  0.336323\n",
       "2023-03-09  1.409262 -1.781004 -0.062828 -0.285885\n",
       "2023-03-10  0.729914 -0.184524 -0.175065 -1.134462"
      ]
     },
     "execution_count": 35,
     "metadata": {},
     "output_type": "execute_result"
    }
   ],
   "source": [
    "df1"
   ]
  },
  {
   "cell_type": "markdown",
   "id": "e1194e09",
   "metadata": {},
   "source": [
    "## Aplying Functions"
   ]
  },
  {
   "cell_type": "code",
   "execution_count": 104,
   "id": "e9a53ed5",
   "metadata": {},
   "outputs": [
    {
     "data": {
      "text/html": [
       "<div>\n",
       "<style scoped>\n",
       "    .dataframe tbody tr th:only-of-type {\n",
       "        vertical-align: middle;\n",
       "    }\n",
       "\n",
       "    .dataframe tbody tr th {\n",
       "        vertical-align: top;\n",
       "    }\n",
       "\n",
       "    .dataframe thead th {\n",
       "        text-align: right;\n",
       "    }\n",
       "</style>\n",
       "<table border=\"1\" class=\"dataframe\">\n",
       "  <thead>\n",
       "    <tr style=\"text-align: right;\">\n",
       "      <th></th>\n",
       "      <th>A</th>\n",
       "      <th>B</th>\n",
       "      <th>C</th>\n",
       "      <th>D</th>\n",
       "    </tr>\n",
       "  </thead>\n",
       "  <tbody>\n",
       "    <tr>\n",
       "      <th>2023-03-01</th>\n",
       "      <td>-0.070680</td>\n",
       "      <td>0.488183</td>\n",
       "      <td>1.842112</td>\n",
       "      <td>0.464690</td>\n",
       "    </tr>\n",
       "    <tr>\n",
       "      <th>2023-03-02</th>\n",
       "      <td>0.404759</td>\n",
       "      <td>1.080989</td>\n",
       "      <td>3.211996</td>\n",
       "      <td>-0.482354</td>\n",
       "    </tr>\n",
       "    <tr>\n",
       "      <th>2023-03-03</th>\n",
       "      <td>-0.474346</td>\n",
       "      <td>1.399354</td>\n",
       "      <td>3.129104</td>\n",
       "      <td>-1.191061</td>\n",
       "    </tr>\n",
       "    <tr>\n",
       "      <th>2023-03-04</th>\n",
       "      <td>0.764393</td>\n",
       "      <td>2.011137</td>\n",
       "      <td>2.223847</td>\n",
       "      <td>-0.961630</td>\n",
       "    </tr>\n",
       "    <tr>\n",
       "      <th>2023-03-05</th>\n",
       "      <td>0.524012</td>\n",
       "      <td>0.480515</td>\n",
       "      <td>5.046051</td>\n",
       "      <td>-0.038510</td>\n",
       "    </tr>\n",
       "    <tr>\n",
       "      <th>2023-03-06</th>\n",
       "      <td>1.402292</td>\n",
       "      <td>-0.658220</td>\n",
       "      <td>4.140459</td>\n",
       "      <td>0.686450</td>\n",
       "    </tr>\n",
       "    <tr>\n",
       "      <th>2023-03-07</th>\n",
       "      <td>3.461981</td>\n",
       "      <td>0.269700</td>\n",
       "      <td>5.680294</td>\n",
       "      <td>-0.558417</td>\n",
       "    </tr>\n",
       "    <tr>\n",
       "      <th>2023-03-08</th>\n",
       "      <td>3.494402</td>\n",
       "      <td>1.435629</td>\n",
       "      <td>6.893465</td>\n",
       "      <td>-0.222094</td>\n",
       "    </tr>\n",
       "    <tr>\n",
       "      <th>2023-03-09</th>\n",
       "      <td>4.903664</td>\n",
       "      <td>-0.345375</td>\n",
       "      <td>6.830637</td>\n",
       "      <td>-0.507979</td>\n",
       "    </tr>\n",
       "    <tr>\n",
       "      <th>2023-03-10</th>\n",
       "      <td>5.633578</td>\n",
       "      <td>-0.529899</td>\n",
       "      <td>6.655572</td>\n",
       "      <td>-1.642442</td>\n",
       "    </tr>\n",
       "  </tbody>\n",
       "</table>\n",
       "</div>"
      ],
      "text/plain": [
       "                   A         B         C         D\n",
       "2023-03-01 -0.070680  0.488183  1.842112  0.464690\n",
       "2023-03-02  0.404759  1.080989  3.211996 -0.482354\n",
       "2023-03-03 -0.474346  1.399354  3.129104 -1.191061\n",
       "2023-03-04  0.764393  2.011137  2.223847 -0.961630\n",
       "2023-03-05  0.524012  0.480515  5.046051 -0.038510\n",
       "2023-03-06  1.402292 -0.658220  4.140459  0.686450\n",
       "2023-03-07  3.461981  0.269700  5.680294 -0.558417\n",
       "2023-03-08  3.494402  1.435629  6.893465 -0.222094\n",
       "2023-03-09  4.903664 -0.345375  6.830637 -0.507979\n",
       "2023-03-10  5.633578 -0.529899  6.655572 -1.642442"
      ]
     },
     "execution_count": 104,
     "metadata": {},
     "output_type": "execute_result"
    }
   ],
   "source": [
    "#1.. Cummulative Sum\n",
    "df1.apply(np.cumsum)"
   ]
  },
  {
   "cell_type": "code",
   "execution_count": 37,
   "id": "2d92597b",
   "metadata": {},
   "outputs": [
    {
     "data": {
      "text/plain": [
       "A    2.938793\n",
       "B    2.946933\n",
       "C    3.727795\n",
       "D    2.167987\n",
       "dtype: float64"
      ]
     },
     "execution_count": 37,
     "metadata": {},
     "output_type": "execute_result"
    }
   ],
   "source": [
    "#2.. Apply Lambda to solve the difference between the large and small number\n",
    "\n",
    "df1.apply(lambda x: x.max() - x.min())"
   ]
  },
  {
   "cell_type": "code",
   "execution_count": 38,
   "id": "cb09a207",
   "metadata": {},
   "outputs": [
    {
     "data": {
      "text/plain": [
       "1.0    1\n",
       "2.0    1\n",
       "3.0    1\n",
       "4.0    1\n",
       "5.0    1\n",
       "7.0    1\n",
       "8.0    1\n",
       "dtype: int64"
      ]
     },
     "execution_count": 38,
     "metadata": {},
     "output_type": "execute_result"
    }
   ],
   "source": [
    "# Count the number of times a value is repeated\n",
    "\n",
    "s.value_counts()"
   ]
  },
  {
   "cell_type": "code",
   "execution_count": 39,
   "id": "bcb6d858",
   "metadata": {},
   "outputs": [
    {
     "data": {
      "text/plain": [
       "0     EMEKA\n",
       "1       KAY\n",
       "2    PYTHON\n",
       "3      FOOD\n",
       "4      FREE\n",
       "dtype: object"
      ]
     },
     "execution_count": 39,
     "metadata": {},
     "output_type": "execute_result"
    }
   ],
   "source": [
    "# Using the string method in pandas\n",
    "s = pd.Series(['emeka', 'kay', 'python', 'food', 'free'])\n",
    "s.str.upper()"
   ]
  },
  {
   "cell_type": "code",
   "execution_count": 40,
   "id": "27eccf65",
   "metadata": {},
   "outputs": [
    {
     "data": {
      "text/html": [
       "<div>\n",
       "<style scoped>\n",
       "    .dataframe tbody tr th:only-of-type {\n",
       "        vertical-align: middle;\n",
       "    }\n",
       "\n",
       "    .dataframe tbody tr th {\n",
       "        vertical-align: top;\n",
       "    }\n",
       "\n",
       "    .dataframe thead th {\n",
       "        text-align: right;\n",
       "    }\n",
       "</style>\n",
       "<table border=\"1\" class=\"dataframe\">\n",
       "  <thead>\n",
       "    <tr style=\"text-align: right;\">\n",
       "      <th></th>\n",
       "      <th>0</th>\n",
       "      <th>1</th>\n",
       "      <th>2</th>\n",
       "      <th>3</th>\n",
       "    </tr>\n",
       "  </thead>\n",
       "  <tbody>\n",
       "    <tr>\n",
       "      <th>0</th>\n",
       "      <td>-0.251690</td>\n",
       "      <td>-0.175423</td>\n",
       "      <td>0.771561</td>\n",
       "      <td>-0.196909</td>\n",
       "    </tr>\n",
       "    <tr>\n",
       "      <th>1</th>\n",
       "      <td>-1.048435</td>\n",
       "      <td>0.064261</td>\n",
       "      <td>-1.440434</td>\n",
       "      <td>-1.236614</td>\n",
       "    </tr>\n",
       "    <tr>\n",
       "      <th>2</th>\n",
       "      <td>-0.418530</td>\n",
       "      <td>-1.262050</td>\n",
       "      <td>0.352054</td>\n",
       "      <td>0.038039</td>\n",
       "    </tr>\n",
       "    <tr>\n",
       "      <th>3</th>\n",
       "      <td>0.473581</td>\n",
       "      <td>0.812287</td>\n",
       "      <td>0.306759</td>\n",
       "      <td>-0.898788</td>\n",
       "    </tr>\n",
       "    <tr>\n",
       "      <th>4</th>\n",
       "      <td>0.141756</td>\n",
       "      <td>-1.346222</td>\n",
       "      <td>2.649105</td>\n",
       "      <td>-0.976218</td>\n",
       "    </tr>\n",
       "    <tr>\n",
       "      <th>5</th>\n",
       "      <td>-0.344087</td>\n",
       "      <td>1.401784</td>\n",
       "      <td>1.190743</td>\n",
       "      <td>1.210532</td>\n",
       "    </tr>\n",
       "    <tr>\n",
       "      <th>6</th>\n",
       "      <td>-1.033843</td>\n",
       "      <td>0.453504</td>\n",
       "      <td>-0.809454</td>\n",
       "      <td>0.536743</td>\n",
       "    </tr>\n",
       "    <tr>\n",
       "      <th>7</th>\n",
       "      <td>-1.448741</td>\n",
       "      <td>1.175743</td>\n",
       "      <td>-0.538247</td>\n",
       "      <td>1.236916</td>\n",
       "    </tr>\n",
       "    <tr>\n",
       "      <th>8</th>\n",
       "      <td>0.444232</td>\n",
       "      <td>-0.674070</td>\n",
       "      <td>0.636653</td>\n",
       "      <td>-0.804705</td>\n",
       "    </tr>\n",
       "    <tr>\n",
       "      <th>9</th>\n",
       "      <td>-1.187512</td>\n",
       "      <td>-0.411200</td>\n",
       "      <td>1.262782</td>\n",
       "      <td>-0.618102</td>\n",
       "    </tr>\n",
       "  </tbody>\n",
       "</table>\n",
       "</div>"
      ],
      "text/plain": [
       "          0         1         2         3\n",
       "0 -0.251690 -0.175423  0.771561 -0.196909\n",
       "1 -1.048435  0.064261 -1.440434 -1.236614\n",
       "2 -0.418530 -1.262050  0.352054  0.038039\n",
       "3  0.473581  0.812287  0.306759 -0.898788\n",
       "4  0.141756 -1.346222  2.649105 -0.976218\n",
       "5 -0.344087  1.401784  1.190743  1.210532\n",
       "6 -1.033843  0.453504 -0.809454  0.536743\n",
       "7 -1.448741  1.175743 -0.538247  1.236916\n",
       "8  0.444232 -0.674070  0.636653 -0.804705\n",
       "9 -1.187512 -0.411200  1.262782 -0.618102"
      ]
     },
     "execution_count": 40,
     "metadata": {},
     "output_type": "execute_result"
    }
   ],
   "source": [
    "df = pd.DataFrame(np.random.randn(10,4))\n",
    "df"
   ]
  },
  {
   "cell_type": "markdown",
   "id": "d30783d7",
   "metadata": {},
   "source": [
    "# Splitting Data in Panda"
   ]
  },
  {
   "cell_type": "code",
   "execution_count": 41,
   "id": "a56c335b",
   "metadata": {},
   "outputs": [
    {
     "data": {
      "text/plain": [
       "[          0         1         2         3\n",
       " 0 -0.251690 -0.175423  0.771561 -0.196909\n",
       " 1 -1.048435  0.064261 -1.440434 -1.236614\n",
       " 2 -0.418530 -1.262050  0.352054  0.038039\n",
       " 3  0.473581  0.812287  0.306759 -0.898788,\n",
       "           0         1         2         3\n",
       " 5 -0.344087  1.401784  1.190743  1.210532\n",
       " 6 -1.033843  0.453504 -0.809454  0.536743,\n",
       "           0        1         2         3\n",
       " 8  0.444232 -0.67407  0.636653 -0.804705\n",
       " 9 -1.187512 -0.41120  1.262782 -0.618102]"
      ]
     },
     "execution_count": 41,
     "metadata": {},
     "output_type": "execute_result"
    }
   ],
   "source": [
    "df4 = [df[:4], df[5:7], df[8:]]\n",
    "df4"
   ]
  },
  {
   "cell_type": "markdown",
   "id": "f21874ce",
   "metadata": {},
   "source": [
    "# Concatenating Data in Pandas"
   ]
  },
  {
   "cell_type": "code",
   "execution_count": 42,
   "id": "f777ec1c",
   "metadata": {},
   "outputs": [
    {
     "data": {
      "text/html": [
       "<div>\n",
       "<style scoped>\n",
       "    .dataframe tbody tr th:only-of-type {\n",
       "        vertical-align: middle;\n",
       "    }\n",
       "\n",
       "    .dataframe tbody tr th {\n",
       "        vertical-align: top;\n",
       "    }\n",
       "\n",
       "    .dataframe thead th {\n",
       "        text-align: right;\n",
       "    }\n",
       "</style>\n",
       "<table border=\"1\" class=\"dataframe\">\n",
       "  <thead>\n",
       "    <tr style=\"text-align: right;\">\n",
       "      <th></th>\n",
       "      <th>0</th>\n",
       "      <th>1</th>\n",
       "      <th>2</th>\n",
       "      <th>3</th>\n",
       "    </tr>\n",
       "  </thead>\n",
       "  <tbody>\n",
       "    <tr>\n",
       "      <th>0</th>\n",
       "      <td>-0.251690</td>\n",
       "      <td>-0.175423</td>\n",
       "      <td>0.771561</td>\n",
       "      <td>-0.196909</td>\n",
       "    </tr>\n",
       "    <tr>\n",
       "      <th>1</th>\n",
       "      <td>-1.048435</td>\n",
       "      <td>0.064261</td>\n",
       "      <td>-1.440434</td>\n",
       "      <td>-1.236614</td>\n",
       "    </tr>\n",
       "    <tr>\n",
       "      <th>2</th>\n",
       "      <td>-0.418530</td>\n",
       "      <td>-1.262050</td>\n",
       "      <td>0.352054</td>\n",
       "      <td>0.038039</td>\n",
       "    </tr>\n",
       "    <tr>\n",
       "      <th>3</th>\n",
       "      <td>0.473581</td>\n",
       "      <td>0.812287</td>\n",
       "      <td>0.306759</td>\n",
       "      <td>-0.898788</td>\n",
       "    </tr>\n",
       "    <tr>\n",
       "      <th>5</th>\n",
       "      <td>-0.344087</td>\n",
       "      <td>1.401784</td>\n",
       "      <td>1.190743</td>\n",
       "      <td>1.210532</td>\n",
       "    </tr>\n",
       "    <tr>\n",
       "      <th>6</th>\n",
       "      <td>-1.033843</td>\n",
       "      <td>0.453504</td>\n",
       "      <td>-0.809454</td>\n",
       "      <td>0.536743</td>\n",
       "    </tr>\n",
       "    <tr>\n",
       "      <th>8</th>\n",
       "      <td>0.444232</td>\n",
       "      <td>-0.674070</td>\n",
       "      <td>0.636653</td>\n",
       "      <td>-0.804705</td>\n",
       "    </tr>\n",
       "    <tr>\n",
       "      <th>9</th>\n",
       "      <td>-1.187512</td>\n",
       "      <td>-0.411200</td>\n",
       "      <td>1.262782</td>\n",
       "      <td>-0.618102</td>\n",
       "    </tr>\n",
       "  </tbody>\n",
       "</table>\n",
       "</div>"
      ],
      "text/plain": [
       "          0         1         2         3\n",
       "0 -0.251690 -0.175423  0.771561 -0.196909\n",
       "1 -1.048435  0.064261 -1.440434 -1.236614\n",
       "2 -0.418530 -1.262050  0.352054  0.038039\n",
       "3  0.473581  0.812287  0.306759 -0.898788\n",
       "5 -0.344087  1.401784  1.190743  1.210532\n",
       "6 -1.033843  0.453504 -0.809454  0.536743\n",
       "8  0.444232 -0.674070  0.636653 -0.804705\n",
       "9 -1.187512 -0.411200  1.262782 -0.618102"
      ]
     },
     "execution_count": 42,
     "metadata": {},
     "output_type": "execute_result"
    }
   ],
   "source": [
    "pd.concat(df4)"
   ]
  },
  {
   "cell_type": "markdown",
   "id": "a439c908",
   "metadata": {},
   "source": [
    "# Merging or Joining in Pandas"
   ]
  },
  {
   "cell_type": "code",
   "execution_count": 111,
   "id": "f278b2f7",
   "metadata": {},
   "outputs": [
    {
     "data": {
      "text/html": [
       "<div>\n",
       "<style scoped>\n",
       "    .dataframe tbody tr th:only-of-type {\n",
       "        vertical-align: middle;\n",
       "    }\n",
       "\n",
       "    .dataframe tbody tr th {\n",
       "        vertical-align: top;\n",
       "    }\n",
       "\n",
       "    .dataframe thead th {\n",
       "        text-align: right;\n",
       "    }\n",
       "</style>\n",
       "<table border=\"1\" class=\"dataframe\">\n",
       "  <thead>\n",
       "    <tr style=\"text-align: right;\">\n",
       "      <th></th>\n",
       "      <th>A</th>\n",
       "      <th>B</th>\n",
       "    </tr>\n",
       "  </thead>\n",
       "  <tbody>\n",
       "    <tr>\n",
       "      <th>0</th>\n",
       "      <td>1</td>\n",
       "      <td>3</td>\n",
       "    </tr>\n",
       "    <tr>\n",
       "      <th>1</th>\n",
       "      <td>2</td>\n",
       "      <td>4</td>\n",
       "    </tr>\n",
       "  </tbody>\n",
       "</table>\n",
       "</div>"
      ],
      "text/plain": [
       "   A  B\n",
       "0  1  3\n",
       "1  2  4"
      ]
     },
     "execution_count": 111,
     "metadata": {},
     "output_type": "execute_result"
    }
   ],
   "source": [
    "left = pd.DataFrame({'A': [1,2], 'B': [3,4]})\n",
    "right = pd.DataFrame({'A': [3,1], 'D': [4,2]})\n",
    "\n",
    "left\n"
   ]
  },
  {
   "cell_type": "code",
   "execution_count": 112,
   "id": "4bdb6120",
   "metadata": {},
   "outputs": [
    {
     "data": {
      "text/html": [
       "<div>\n",
       "<style scoped>\n",
       "    .dataframe tbody tr th:only-of-type {\n",
       "        vertical-align: middle;\n",
       "    }\n",
       "\n",
       "    .dataframe tbody tr th {\n",
       "        vertical-align: top;\n",
       "    }\n",
       "\n",
       "    .dataframe thead th {\n",
       "        text-align: right;\n",
       "    }\n",
       "</style>\n",
       "<table border=\"1\" class=\"dataframe\">\n",
       "  <thead>\n",
       "    <tr style=\"text-align: right;\">\n",
       "      <th></th>\n",
       "      <th>A</th>\n",
       "      <th>D</th>\n",
       "    </tr>\n",
       "  </thead>\n",
       "  <tbody>\n",
       "    <tr>\n",
       "      <th>0</th>\n",
       "      <td>3</td>\n",
       "      <td>4</td>\n",
       "    </tr>\n",
       "    <tr>\n",
       "      <th>1</th>\n",
       "      <td>1</td>\n",
       "      <td>2</td>\n",
       "    </tr>\n",
       "  </tbody>\n",
       "</table>\n",
       "</div>"
      ],
      "text/plain": [
       "   A  D\n",
       "0  3  4\n",
       "1  1  2"
      ]
     },
     "execution_count": 112,
     "metadata": {},
     "output_type": "execute_result"
    }
   ],
   "source": [
    "right"
   ]
  },
  {
   "cell_type": "code",
   "execution_count": 113,
   "id": "749e4e98",
   "metadata": {},
   "outputs": [
    {
     "data": {
      "text/html": [
       "<div>\n",
       "<style scoped>\n",
       "    .dataframe tbody tr th:only-of-type {\n",
       "        vertical-align: middle;\n",
       "    }\n",
       "\n",
       "    .dataframe tbody tr th {\n",
       "        vertical-align: top;\n",
       "    }\n",
       "\n",
       "    .dataframe thead th {\n",
       "        text-align: right;\n",
       "    }\n",
       "</style>\n",
       "<table border=\"1\" class=\"dataframe\">\n",
       "  <thead>\n",
       "    <tr style=\"text-align: right;\">\n",
       "      <th></th>\n",
       "      <th>A</th>\n",
       "      <th>B</th>\n",
       "      <th>D</th>\n",
       "    </tr>\n",
       "  </thead>\n",
       "  <tbody>\n",
       "    <tr>\n",
       "      <th>0</th>\n",
       "      <td>1</td>\n",
       "      <td>3</td>\n",
       "      <td>2</td>\n",
       "    </tr>\n",
       "  </tbody>\n",
       "</table>\n",
       "</div>"
      ],
      "text/plain": [
       "   A  B  D\n",
       "0  1  3  2"
      ]
     },
     "execution_count": 113,
     "metadata": {},
     "output_type": "execute_result"
    }
   ],
   "source": [
    "pd.merge(left, right, on='A')"
   ]
  },
  {
   "cell_type": "markdown",
   "id": "3a69f962",
   "metadata": {},
   "source": [
    "# Grouping "
   ]
  },
  {
   "cell_type": "code",
   "execution_count": 46,
   "id": "325f1a40",
   "metadata": {},
   "outputs": [
    {
     "data": {
      "text/html": [
       "<div>\n",
       "<style scoped>\n",
       "    .dataframe tbody tr th:only-of-type {\n",
       "        vertical-align: middle;\n",
       "    }\n",
       "\n",
       "    .dataframe tbody tr th {\n",
       "        vertical-align: top;\n",
       "    }\n",
       "\n",
       "    .dataframe thead th {\n",
       "        text-align: right;\n",
       "    }\n",
       "</style>\n",
       "<table border=\"1\" class=\"dataframe\">\n",
       "  <thead>\n",
       "    <tr style=\"text-align: right;\">\n",
       "      <th></th>\n",
       "      <th>0</th>\n",
       "      <th>1</th>\n",
       "      <th>3</th>\n",
       "    </tr>\n",
       "    <tr>\n",
       "      <th>2</th>\n",
       "      <th></th>\n",
       "      <th></th>\n",
       "      <th></th>\n",
       "    </tr>\n",
       "  </thead>\n",
       "  <tbody>\n",
       "    <tr>\n",
       "      <th>-1.440434</th>\n",
       "      <td>-1.048435</td>\n",
       "      <td>0.064261</td>\n",
       "      <td>-1.236614</td>\n",
       "    </tr>\n",
       "    <tr>\n",
       "      <th>-0.809454</th>\n",
       "      <td>-1.033843</td>\n",
       "      <td>0.453504</td>\n",
       "      <td>0.536743</td>\n",
       "    </tr>\n",
       "    <tr>\n",
       "      <th>-0.538247</th>\n",
       "      <td>-1.448741</td>\n",
       "      <td>1.175743</td>\n",
       "      <td>1.236916</td>\n",
       "    </tr>\n",
       "    <tr>\n",
       "      <th>0.306759</th>\n",
       "      <td>0.473581</td>\n",
       "      <td>0.812287</td>\n",
       "      <td>-0.898788</td>\n",
       "    </tr>\n",
       "    <tr>\n",
       "      <th>0.352054</th>\n",
       "      <td>-0.418530</td>\n",
       "      <td>-1.262050</td>\n",
       "      <td>0.038039</td>\n",
       "    </tr>\n",
       "    <tr>\n",
       "      <th>0.636653</th>\n",
       "      <td>0.444232</td>\n",
       "      <td>-0.674070</td>\n",
       "      <td>-0.804705</td>\n",
       "    </tr>\n",
       "    <tr>\n",
       "      <th>0.771561</th>\n",
       "      <td>-0.251690</td>\n",
       "      <td>-0.175423</td>\n",
       "      <td>-0.196909</td>\n",
       "    </tr>\n",
       "    <tr>\n",
       "      <th>1.190743</th>\n",
       "      <td>-0.344087</td>\n",
       "      <td>1.401784</td>\n",
       "      <td>1.210532</td>\n",
       "    </tr>\n",
       "    <tr>\n",
       "      <th>1.262782</th>\n",
       "      <td>-1.187512</td>\n",
       "      <td>-0.411200</td>\n",
       "      <td>-0.618102</td>\n",
       "    </tr>\n",
       "    <tr>\n",
       "      <th>2.649105</th>\n",
       "      <td>0.141756</td>\n",
       "      <td>-1.346222</td>\n",
       "      <td>-0.976218</td>\n",
       "    </tr>\n",
       "  </tbody>\n",
       "</table>\n",
       "</div>"
      ],
      "text/plain": [
       "                  0         1         3\n",
       "2                                      \n",
       "-1.440434 -1.048435  0.064261 -1.236614\n",
       "-0.809454 -1.033843  0.453504  0.536743\n",
       "-0.538247 -1.448741  1.175743  1.236916\n",
       " 0.306759  0.473581  0.812287 -0.898788\n",
       " 0.352054 -0.418530 -1.262050  0.038039\n",
       " 0.636653  0.444232 -0.674070 -0.804705\n",
       " 0.771561 -0.251690 -0.175423 -0.196909\n",
       " 1.190743 -0.344087  1.401784  1.210532\n",
       " 1.262782 -1.187512 -0.411200 -0.618102\n",
       " 2.649105  0.141756 -1.346222 -0.976218"
      ]
     },
     "execution_count": 46,
     "metadata": {},
     "output_type": "execute_result"
    }
   ],
   "source": [
    "df.groupby(2).sum()"
   ]
  },
  {
   "cell_type": "markdown",
   "id": "d61803c8",
   "metadata": {},
   "source": [
    "# Stacking "
   ]
  },
  {
   "cell_type": "code",
   "execution_count": 114,
   "id": "21c09200",
   "metadata": {},
   "outputs": [
    {
     "data": {
      "text/plain": [
       "[(1, 6), (2, 7), (3, 8), (4, 9), (5, 10), (17, 11), (18, 12), (19, 13)]"
      ]
     },
     "execution_count": 114,
     "metadata": {},
     "output_type": "execute_result"
    }
   ],
   "source": [
    "my_tuple = list(zip(*[[1,2,3,4,5,17,18,19], [6,7,8,9,10,11,12,13]]))\n",
    "my_tuple"
   ]
  },
  {
   "cell_type": "code",
   "execution_count": 115,
   "id": "ecbae991",
   "metadata": {},
   "outputs": [
    {
     "data": {
      "text/plain": [
       "MultiIndex([( 1,  6),\n",
       "            ( 2,  7),\n",
       "            ( 3,  8),\n",
       "            ( 4,  9),\n",
       "            ( 5, 10),\n",
       "            (17, 11),\n",
       "            (18, 12),\n",
       "            (19, 13)],\n",
       "           names=['First', 'Second'])"
      ]
     },
     "execution_count": 115,
     "metadata": {},
     "output_type": "execute_result"
    }
   ],
   "source": [
    "index = pd.MultiIndex.from_tuples(my_tuple, name=['First', 'Second'])\n",
    "index"
   ]
  },
  {
   "cell_type": "code",
   "execution_count": 116,
   "id": "59b9a04a",
   "metadata": {},
   "outputs": [
    {
     "data": {
      "text/html": [
       "<div>\n",
       "<style scoped>\n",
       "    .dataframe tbody tr th:only-of-type {\n",
       "        vertical-align: middle;\n",
       "    }\n",
       "\n",
       "    .dataframe tbody tr th {\n",
       "        vertical-align: top;\n",
       "    }\n",
       "\n",
       "    .dataframe thead th {\n",
       "        text-align: right;\n",
       "    }\n",
       "</style>\n",
       "<table border=\"1\" class=\"dataframe\">\n",
       "  <thead>\n",
       "    <tr style=\"text-align: right;\">\n",
       "      <th></th>\n",
       "      <th></th>\n",
       "      <th>A</th>\n",
       "      <th>B</th>\n",
       "    </tr>\n",
       "    <tr>\n",
       "      <th>First</th>\n",
       "      <th>Second</th>\n",
       "      <th></th>\n",
       "      <th></th>\n",
       "    </tr>\n",
       "  </thead>\n",
       "  <tbody>\n",
       "    <tr>\n",
       "      <th>1</th>\n",
       "      <th>6</th>\n",
       "      <td>0.518397</td>\n",
       "      <td>0.695380</td>\n",
       "    </tr>\n",
       "    <tr>\n",
       "      <th>2</th>\n",
       "      <th>7</th>\n",
       "      <td>-0.365301</td>\n",
       "      <td>0.835550</td>\n",
       "    </tr>\n",
       "    <tr>\n",
       "      <th>3</th>\n",
       "      <th>8</th>\n",
       "      <td>1.159610</td>\n",
       "      <td>1.337310</td>\n",
       "    </tr>\n",
       "    <tr>\n",
       "      <th>4</th>\n",
       "      <th>9</th>\n",
       "      <td>-1.182523</td>\n",
       "      <td>0.096214</td>\n",
       "    </tr>\n",
       "    <tr>\n",
       "      <th>5</th>\n",
       "      <th>10</th>\n",
       "      <td>-0.168489</td>\n",
       "      <td>1.321771</td>\n",
       "    </tr>\n",
       "    <tr>\n",
       "      <th>17</th>\n",
       "      <th>11</th>\n",
       "      <td>0.560700</td>\n",
       "      <td>-0.011411</td>\n",
       "    </tr>\n",
       "    <tr>\n",
       "      <th>18</th>\n",
       "      <th>12</th>\n",
       "      <td>-1.596002</td>\n",
       "      <td>0.250025</td>\n",
       "    </tr>\n",
       "    <tr>\n",
       "      <th>19</th>\n",
       "      <th>13</th>\n",
       "      <td>-0.721055</td>\n",
       "      <td>-1.183443</td>\n",
       "    </tr>\n",
       "  </tbody>\n",
       "</table>\n",
       "</div>"
      ],
      "text/plain": [
       "                     A         B\n",
       "First Second                    \n",
       "1     6       0.518397  0.695380\n",
       "2     7      -0.365301  0.835550\n",
       "3     8       1.159610  1.337310\n",
       "4     9      -1.182523  0.096214\n",
       "5     10     -0.168489  1.321771\n",
       "17    11      0.560700 -0.011411\n",
       "18    12     -1.596002  0.250025\n",
       "19    13     -0.721055 -1.183443"
      ]
     },
     "execution_count": 116,
     "metadata": {},
     "output_type": "execute_result"
    }
   ],
   "source": [
    "df = pd.DataFrame(np.random.randn(8,2), index=index, columns=['A', 'B'])\n",
    "df"
   ]
  },
  {
   "cell_type": "code",
   "execution_count": 50,
   "id": "8720e979",
   "metadata": {},
   "outputs": [],
   "source": [
    "df2 = df[:4]"
   ]
  },
  {
   "cell_type": "code",
   "execution_count": 51,
   "id": "a350f9c8",
   "metadata": {},
   "outputs": [
    {
     "data": {
      "text/html": [
       "<div>\n",
       "<style scoped>\n",
       "    .dataframe tbody tr th:only-of-type {\n",
       "        vertical-align: middle;\n",
       "    }\n",
       "\n",
       "    .dataframe tbody tr th {\n",
       "        vertical-align: top;\n",
       "    }\n",
       "\n",
       "    .dataframe thead th {\n",
       "        text-align: right;\n",
       "    }\n",
       "</style>\n",
       "<table border=\"1\" class=\"dataframe\">\n",
       "  <thead>\n",
       "    <tr style=\"text-align: right;\">\n",
       "      <th></th>\n",
       "      <th></th>\n",
       "      <th>A</th>\n",
       "      <th>B</th>\n",
       "    </tr>\n",
       "    <tr>\n",
       "      <th>First</th>\n",
       "      <th>Second</th>\n",
       "      <th></th>\n",
       "      <th></th>\n",
       "    </tr>\n",
       "  </thead>\n",
       "  <tbody>\n",
       "    <tr>\n",
       "      <th>1</th>\n",
       "      <th>6</th>\n",
       "      <td>-2.187333</td>\n",
       "      <td>-1.951079</td>\n",
       "    </tr>\n",
       "    <tr>\n",
       "      <th>2</th>\n",
       "      <th>7</th>\n",
       "      <td>0.282123</td>\n",
       "      <td>0.409541</td>\n",
       "    </tr>\n",
       "    <tr>\n",
       "      <th>3</th>\n",
       "      <th>8</th>\n",
       "      <td>1.072845</td>\n",
       "      <td>1.087011</td>\n",
       "    </tr>\n",
       "    <tr>\n",
       "      <th>4</th>\n",
       "      <th>9</th>\n",
       "      <td>0.157149</td>\n",
       "      <td>-0.403647</td>\n",
       "    </tr>\n",
       "  </tbody>\n",
       "</table>\n",
       "</div>"
      ],
      "text/plain": [
       "                     A         B\n",
       "First Second                    \n",
       "1     6      -2.187333 -1.951079\n",
       "2     7       0.282123  0.409541\n",
       "3     8       1.072845  1.087011\n",
       "4     9       0.157149 -0.403647"
      ]
     },
     "execution_count": 51,
     "metadata": {},
     "output_type": "execute_result"
    }
   ],
   "source": [
    "df2"
   ]
  },
  {
   "cell_type": "code",
   "execution_count": 52,
   "id": "2f2b791a",
   "metadata": {},
   "outputs": [
    {
     "data": {
      "text/plain": [
       "First  Second   \n",
       "1      6       A   -2.187333\n",
       "               B   -1.951079\n",
       "2      7       A    0.282123\n",
       "               B    0.409541\n",
       "3      8       A    1.072845\n",
       "               B    1.087011\n",
       "4      9       A    0.157149\n",
       "               B   -0.403647\n",
       "dtype: float64"
      ]
     },
     "execution_count": 52,
     "metadata": {},
     "output_type": "execute_result"
    }
   ],
   "source": [
    "a = df2.stack()\n",
    "a"
   ]
  },
  {
   "cell_type": "code",
   "execution_count": 53,
   "id": "6282b08c",
   "metadata": {},
   "outputs": [
    {
     "data": {
      "text/html": [
       "<div>\n",
       "<style scoped>\n",
       "    .dataframe tbody tr th:only-of-type {\n",
       "        vertical-align: middle;\n",
       "    }\n",
       "\n",
       "    .dataframe tbody tr th {\n",
       "        vertical-align: top;\n",
       "    }\n",
       "\n",
       "    .dataframe thead th {\n",
       "        text-align: right;\n",
       "    }\n",
       "</style>\n",
       "<table border=\"1\" class=\"dataframe\">\n",
       "  <thead>\n",
       "    <tr style=\"text-align: right;\">\n",
       "      <th></th>\n",
       "      <th></th>\n",
       "      <th>A</th>\n",
       "      <th>B</th>\n",
       "    </tr>\n",
       "    <tr>\n",
       "      <th>First</th>\n",
       "      <th>Second</th>\n",
       "      <th></th>\n",
       "      <th></th>\n",
       "    </tr>\n",
       "  </thead>\n",
       "  <tbody>\n",
       "    <tr>\n",
       "      <th>1</th>\n",
       "      <th>6</th>\n",
       "      <td>-2.187333</td>\n",
       "      <td>-1.951079</td>\n",
       "    </tr>\n",
       "    <tr>\n",
       "      <th>2</th>\n",
       "      <th>7</th>\n",
       "      <td>0.282123</td>\n",
       "      <td>0.409541</td>\n",
       "    </tr>\n",
       "    <tr>\n",
       "      <th>3</th>\n",
       "      <th>8</th>\n",
       "      <td>1.072845</td>\n",
       "      <td>1.087011</td>\n",
       "    </tr>\n",
       "    <tr>\n",
       "      <th>4</th>\n",
       "      <th>9</th>\n",
       "      <td>0.157149</td>\n",
       "      <td>-0.403647</td>\n",
       "    </tr>\n",
       "  </tbody>\n",
       "</table>\n",
       "</div>"
      ],
      "text/plain": [
       "                     A         B\n",
       "First Second                    \n",
       "1     6      -2.187333 -1.951079\n",
       "2     7       0.282123  0.409541\n",
       "3     8       1.072845  1.087011\n",
       "4     9       0.157149 -0.403647"
      ]
     },
     "execution_count": 53,
     "metadata": {},
     "output_type": "execute_result"
    }
   ],
   "source": [
    "a.unstack()"
   ]
  },
  {
   "cell_type": "markdown",
   "id": "4752fc8f",
   "metadata": {},
   "source": [
    "# PIVOT TABLE"
   ]
  },
  {
   "cell_type": "code",
   "execution_count": 54,
   "id": "0a1975fd",
   "metadata": {},
   "outputs": [
    {
     "data": {
      "text/html": [
       "<div>\n",
       "<style scoped>\n",
       "    .dataframe tbody tr th:only-of-type {\n",
       "        vertical-align: middle;\n",
       "    }\n",
       "\n",
       "    .dataframe tbody tr th {\n",
       "        vertical-align: top;\n",
       "    }\n",
       "\n",
       "    .dataframe thead th {\n",
       "        text-align: right;\n",
       "    }\n",
       "</style>\n",
       "<table border=\"1\" class=\"dataframe\">\n",
       "  <thead>\n",
       "    <tr style=\"text-align: right;\">\n",
       "      <th></th>\n",
       "      <th>A</th>\n",
       "      <th>B</th>\n",
       "      <th>C</th>\n",
       "      <th>D</th>\n",
       "      <th>E</th>\n",
       "    </tr>\n",
       "  </thead>\n",
       "  <tbody>\n",
       "    <tr>\n",
       "      <th>0</th>\n",
       "      <td>a</td>\n",
       "      <td>A</td>\n",
       "      <td>P</td>\n",
       "      <td>-0.514680</td>\n",
       "      <td>0.105146</td>\n",
       "    </tr>\n",
       "    <tr>\n",
       "      <th>1</th>\n",
       "      <td>b</td>\n",
       "      <td>B</td>\n",
       "      <td>P</td>\n",
       "      <td>-1.398703</td>\n",
       "      <td>-0.163582</td>\n",
       "    </tr>\n",
       "    <tr>\n",
       "      <th>2</th>\n",
       "      <td>c</td>\n",
       "      <td>C</td>\n",
       "      <td>P</td>\n",
       "      <td>0.587628</td>\n",
       "      <td>1.122617</td>\n",
       "    </tr>\n",
       "    <tr>\n",
       "      <th>3</th>\n",
       "      <td>d</td>\n",
       "      <td>A</td>\n",
       "      <td>Q</td>\n",
       "      <td>1.548142</td>\n",
       "      <td>-1.398867</td>\n",
       "    </tr>\n",
       "    <tr>\n",
       "      <th>4</th>\n",
       "      <td>a</td>\n",
       "      <td>B</td>\n",
       "      <td>Q</td>\n",
       "      <td>0.602302</td>\n",
       "      <td>-0.199000</td>\n",
       "    </tr>\n",
       "    <tr>\n",
       "      <th>5</th>\n",
       "      <td>b</td>\n",
       "      <td>C</td>\n",
       "      <td>Q</td>\n",
       "      <td>-0.058746</td>\n",
       "      <td>0.543531</td>\n",
       "    </tr>\n",
       "    <tr>\n",
       "      <th>6</th>\n",
       "      <td>c</td>\n",
       "      <td>A</td>\n",
       "      <td>P</td>\n",
       "      <td>0.169135</td>\n",
       "      <td>0.656838</td>\n",
       "    </tr>\n",
       "    <tr>\n",
       "      <th>7</th>\n",
       "      <td>d</td>\n",
       "      <td>B</td>\n",
       "      <td>P</td>\n",
       "      <td>1.797045</td>\n",
       "      <td>-1.525588</td>\n",
       "    </tr>\n",
       "    <tr>\n",
       "      <th>8</th>\n",
       "      <td>a</td>\n",
       "      <td>C</td>\n",
       "      <td>P</td>\n",
       "      <td>-0.323396</td>\n",
       "      <td>0.720036</td>\n",
       "    </tr>\n",
       "    <tr>\n",
       "      <th>9</th>\n",
       "      <td>b</td>\n",
       "      <td>A</td>\n",
       "      <td>Q</td>\n",
       "      <td>1.627867</td>\n",
       "      <td>0.704723</td>\n",
       "    </tr>\n",
       "    <tr>\n",
       "      <th>10</th>\n",
       "      <td>c</td>\n",
       "      <td>B</td>\n",
       "      <td>Q</td>\n",
       "      <td>0.084269</td>\n",
       "      <td>-1.800832</td>\n",
       "    </tr>\n",
       "    <tr>\n",
       "      <th>11</th>\n",
       "      <td>d</td>\n",
       "      <td>C</td>\n",
       "      <td>Q</td>\n",
       "      <td>-0.166194</td>\n",
       "      <td>1.904244</td>\n",
       "    </tr>\n",
       "  </tbody>\n",
       "</table>\n",
       "</div>"
      ],
      "text/plain": [
       "    A  B  C         D         E\n",
       "0   a  A  P -0.514680  0.105146\n",
       "1   b  B  P -1.398703 -0.163582\n",
       "2   c  C  P  0.587628  1.122617\n",
       "3   d  A  Q  1.548142 -1.398867\n",
       "4   a  B  Q  0.602302 -0.199000\n",
       "5   b  C  Q -0.058746  0.543531\n",
       "6   c  A  P  0.169135  0.656838\n",
       "7   d  B  P  1.797045 -1.525588\n",
       "8   a  C  P -0.323396  0.720036\n",
       "9   b  A  Q  1.627867  0.704723\n",
       "10  c  B  Q  0.084269 -1.800832\n",
       "11  d  C  Q -0.166194  1.904244"
      ]
     },
     "execution_count": 54,
     "metadata": {},
     "output_type": "execute_result"
    }
   ],
   "source": [
    "df = pd.DataFrame({\n",
    "    'A':['a', 'b', 'c', 'd']*3,\n",
    "    'B':['A', 'B', 'C']*4,\n",
    "    'C':['P','P', 'P', 'Q', 'Q', 'Q']*2,\n",
    "    'D': np.random.randn(12),\n",
    "    'E': np.random.randn(12)\n",
    "})\n",
    "\n",
    "df"
   ]
  },
  {
   "cell_type": "code",
   "execution_count": 55,
   "id": "8cbbe186",
   "metadata": {},
   "outputs": [
    {
     "data": {
      "text/html": [
       "<div>\n",
       "<style scoped>\n",
       "    .dataframe tbody tr th:only-of-type {\n",
       "        vertical-align: middle;\n",
       "    }\n",
       "\n",
       "    .dataframe tbody tr th {\n",
       "        vertical-align: top;\n",
       "    }\n",
       "\n",
       "    .dataframe thead th {\n",
       "        text-align: right;\n",
       "    }\n",
       "</style>\n",
       "<table border=\"1\" class=\"dataframe\">\n",
       "  <thead>\n",
       "    <tr style=\"text-align: right;\">\n",
       "      <th></th>\n",
       "      <th>C</th>\n",
       "      <th>P</th>\n",
       "      <th>Q</th>\n",
       "    </tr>\n",
       "    <tr>\n",
       "      <th>A</th>\n",
       "      <th>B</th>\n",
       "      <th></th>\n",
       "      <th></th>\n",
       "    </tr>\n",
       "  </thead>\n",
       "  <tbody>\n",
       "    <tr>\n",
       "      <th rowspan=\"3\" valign=\"top\">a</th>\n",
       "      <th>A</th>\n",
       "      <td>-0.514680</td>\n",
       "      <td>NaN</td>\n",
       "    </tr>\n",
       "    <tr>\n",
       "      <th>B</th>\n",
       "      <td>NaN</td>\n",
       "      <td>0.602302</td>\n",
       "    </tr>\n",
       "    <tr>\n",
       "      <th>C</th>\n",
       "      <td>-0.323396</td>\n",
       "      <td>NaN</td>\n",
       "    </tr>\n",
       "    <tr>\n",
       "      <th rowspan=\"3\" valign=\"top\">b</th>\n",
       "      <th>A</th>\n",
       "      <td>NaN</td>\n",
       "      <td>1.627867</td>\n",
       "    </tr>\n",
       "    <tr>\n",
       "      <th>B</th>\n",
       "      <td>-1.398703</td>\n",
       "      <td>NaN</td>\n",
       "    </tr>\n",
       "    <tr>\n",
       "      <th>C</th>\n",
       "      <td>NaN</td>\n",
       "      <td>-0.058746</td>\n",
       "    </tr>\n",
       "    <tr>\n",
       "      <th rowspan=\"3\" valign=\"top\">c</th>\n",
       "      <th>A</th>\n",
       "      <td>0.169135</td>\n",
       "      <td>NaN</td>\n",
       "    </tr>\n",
       "    <tr>\n",
       "      <th>B</th>\n",
       "      <td>NaN</td>\n",
       "      <td>0.084269</td>\n",
       "    </tr>\n",
       "    <tr>\n",
       "      <th>C</th>\n",
       "      <td>0.587628</td>\n",
       "      <td>NaN</td>\n",
       "    </tr>\n",
       "    <tr>\n",
       "      <th rowspan=\"3\" valign=\"top\">d</th>\n",
       "      <th>A</th>\n",
       "      <td>NaN</td>\n",
       "      <td>1.548142</td>\n",
       "    </tr>\n",
       "    <tr>\n",
       "      <th>B</th>\n",
       "      <td>1.797045</td>\n",
       "      <td>NaN</td>\n",
       "    </tr>\n",
       "    <tr>\n",
       "      <th>C</th>\n",
       "      <td>NaN</td>\n",
       "      <td>-0.166194</td>\n",
       "    </tr>\n",
       "  </tbody>\n",
       "</table>\n",
       "</div>"
      ],
      "text/plain": [
       "C           P         Q\n",
       "A B                    \n",
       "a A -0.514680       NaN\n",
       "  B       NaN  0.602302\n",
       "  C -0.323396       NaN\n",
       "b A       NaN  1.627867\n",
       "  B -1.398703       NaN\n",
       "  C       NaN -0.058746\n",
       "c A  0.169135       NaN\n",
       "  B       NaN  0.084269\n",
       "  C  0.587628       NaN\n",
       "d A       NaN  1.548142\n",
       "  B  1.797045       NaN\n",
       "  C       NaN -0.166194"
      ]
     },
     "execution_count": 55,
     "metadata": {},
     "output_type": "execute_result"
    }
   ],
   "source": [
    "pd.pivot_table(df, values='D', index=['A', 'B'], columns=['C'])"
   ]
  },
  {
   "cell_type": "markdown",
   "id": "05a28252",
   "metadata": {},
   "source": [
    "# TIME SERIES AND CATERGORICAL DATAS"
   ]
  },
  {
   "cell_type": "code",
   "execution_count": 56,
   "id": "9972066e",
   "metadata": {},
   "outputs": [],
   "source": [
    "dates = pd.date_range('1/8/2023', periods = 100, freq = 'S')\n"
   ]
  },
  {
   "cell_type": "code",
   "execution_count": 57,
   "id": "80398cc6",
   "metadata": {},
   "outputs": [],
   "source": [
    "ts = pd.Series(np.random.randint(0,500, len(dates)), dates)"
   ]
  },
  {
   "cell_type": "code",
   "execution_count": 58,
   "id": "220d7548",
   "metadata": {},
   "outputs": [
    {
     "data": {
      "text/plain": [
       "2023-01-08    25577\n",
       "Freq: 5T, dtype: int32"
      ]
     },
     "execution_count": 58,
     "metadata": {},
     "output_type": "execute_result"
    }
   ],
   "source": [
    "ts.resample('5min').sum()"
   ]
  },
  {
   "cell_type": "code",
   "execution_count": 59,
   "id": "5453285d",
   "metadata": {},
   "outputs": [],
   "source": [
    "# Time Zone Representation\n",
    "\n",
    "dates = pd.date_range('1/8/2023 00:00' , periods = 5, freq = 'S')"
   ]
  },
  {
   "cell_type": "code",
   "execution_count": 60,
   "id": "c0ab8406",
   "metadata": {},
   "outputs": [],
   "source": [
    "ts = pd.Series(np.random.randn(len(dates)), dates)"
   ]
  },
  {
   "cell_type": "code",
   "execution_count": 61,
   "id": "6d38b4cb",
   "metadata": {},
   "outputs": [
    {
     "data": {
      "text/plain": [
       "2023-01-08 00:00:00   -0.101307\n",
       "2023-01-08 00:00:01    0.424836\n",
       "2023-01-08 00:00:02   -0.532046\n",
       "2023-01-08 00:00:03    1.283848\n",
       "2023-01-08 00:00:04    0.014441\n",
       "Freq: S, dtype: float64"
      ]
     },
     "execution_count": 61,
     "metadata": {},
     "output_type": "execute_result"
    }
   ],
   "source": [
    "ts"
   ]
  },
  {
   "cell_type": "code",
   "execution_count": 62,
   "id": "e5f85b84",
   "metadata": {},
   "outputs": [],
   "source": [
    "ts_utc = ts.tz_localize('UTC')"
   ]
  },
  {
   "cell_type": "code",
   "execution_count": 63,
   "id": "a9c88a5c",
   "metadata": {},
   "outputs": [
    {
     "data": {
      "text/plain": [
       "2023-01-08 00:00:00+00:00   -0.101307\n",
       "2023-01-08 00:00:01+00:00    0.424836\n",
       "2023-01-08 00:00:02+00:00   -0.532046\n",
       "2023-01-08 00:00:03+00:00    1.283848\n",
       "2023-01-08 00:00:04+00:00    0.014441\n",
       "Freq: S, dtype: float64"
      ]
     },
     "execution_count": 63,
     "metadata": {},
     "output_type": "execute_result"
    }
   ],
   "source": [
    "ts_utc"
   ]
  },
  {
   "cell_type": "code",
   "execution_count": 64,
   "id": "e0ea783b",
   "metadata": {},
   "outputs": [
    {
     "data": {
      "text/plain": [
       "2023-01-07 19:00:00-05:00   -0.101307\n",
       "2023-01-07 19:00:01-05:00    0.424836\n",
       "2023-01-07 19:00:02-05:00   -0.532046\n",
       "2023-01-07 19:00:03-05:00    1.283848\n",
       "2023-01-07 19:00:04-05:00    0.014441\n",
       "Freq: S, dtype: float64"
      ]
     },
     "execution_count": 64,
     "metadata": {},
     "output_type": "execute_result"
    }
   ],
   "source": [
    "# Convert to another Time Zone\n",
    "\n",
    "ts_utc.tz_convert('US/Eastern')"
   ]
  },
  {
   "cell_type": "code",
   "execution_count": 65,
   "id": "07dde92a",
   "metadata": {},
   "outputs": [],
   "source": [
    "dates = pd.date_range('1/8/2023 00:00' , periods = 5, freq = 'M')"
   ]
  },
  {
   "cell_type": "code",
   "execution_count": 66,
   "id": "2cd26e1c",
   "metadata": {},
   "outputs": [],
   "source": [
    "ts = pd.Series(np.random.randn(len(dates)), dates)"
   ]
  },
  {
   "cell_type": "code",
   "execution_count": 67,
   "id": "10f656c1",
   "metadata": {},
   "outputs": [
    {
     "data": {
      "text/plain": [
       "2023-01-31    0.236927\n",
       "2023-02-28    0.175004\n",
       "2023-03-31   -0.370114\n",
       "2023-04-30   -0.561069\n",
       "2023-05-31   -0.636955\n",
       "Freq: M, dtype: float64"
      ]
     },
     "execution_count": 67,
     "metadata": {},
     "output_type": "execute_result"
    }
   ],
   "source": [
    "ts"
   ]
  },
  {
   "cell_type": "code",
   "execution_count": 68,
   "id": "928d90a0",
   "metadata": {},
   "outputs": [],
   "source": [
    "ps = ts.to_period()"
   ]
  },
  {
   "cell_type": "code",
   "execution_count": 69,
   "id": "884a75e8",
   "metadata": {},
   "outputs": [
    {
     "data": {
      "text/plain": [
       "2023-01    0.236927\n",
       "2023-02    0.175004\n",
       "2023-03   -0.370114\n",
       "2023-04   -0.561069\n",
       "2023-05   -0.636955\n",
       "Freq: M, dtype: float64"
      ]
     },
     "execution_count": 69,
     "metadata": {},
     "output_type": "execute_result"
    }
   ],
   "source": [
    "ps"
   ]
  },
  {
   "cell_type": "code",
   "execution_count": 70,
   "id": "bf849973",
   "metadata": {},
   "outputs": [
    {
     "data": {
      "text/plain": [
       "2023-01-01    0.236927\n",
       "2023-02-01    0.175004\n",
       "2023-03-01   -0.370114\n",
       "2023-04-01   -0.561069\n",
       "2023-05-01   -0.636955\n",
       "Freq: MS, dtype: float64"
      ]
     },
     "execution_count": 70,
     "metadata": {},
     "output_type": "execute_result"
    }
   ],
   "source": [
    "ps.to_timestamp()"
   ]
  },
  {
   "cell_type": "markdown",
   "id": "c2f3ee36",
   "metadata": {},
   "source": [
    "# CATEGORIES"
   ]
  },
  {
   "cell_type": "code",
   "execution_count": 71,
   "id": "9a1c77d5",
   "metadata": {},
   "outputs": [],
   "source": [
    "df = pd.DataFrame({'id':[1,2,3,4,5,6],\n",
    "                  'grade':['a', 'b', 'c', 'a', 'b', 'e']})"
   ]
  },
  {
   "cell_type": "code",
   "execution_count": 72,
   "id": "e93eec1e",
   "metadata": {},
   "outputs": [
    {
     "data": {
      "text/html": [
       "<div>\n",
       "<style scoped>\n",
       "    .dataframe tbody tr th:only-of-type {\n",
       "        vertical-align: middle;\n",
       "    }\n",
       "\n",
       "    .dataframe tbody tr th {\n",
       "        vertical-align: top;\n",
       "    }\n",
       "\n",
       "    .dataframe thead th {\n",
       "        text-align: right;\n",
       "    }\n",
       "</style>\n",
       "<table border=\"1\" class=\"dataframe\">\n",
       "  <thead>\n",
       "    <tr style=\"text-align: right;\">\n",
       "      <th></th>\n",
       "      <th>id</th>\n",
       "      <th>grade</th>\n",
       "    </tr>\n",
       "  </thead>\n",
       "  <tbody>\n",
       "    <tr>\n",
       "      <th>0</th>\n",
       "      <td>1</td>\n",
       "      <td>a</td>\n",
       "    </tr>\n",
       "    <tr>\n",
       "      <th>1</th>\n",
       "      <td>2</td>\n",
       "      <td>b</td>\n",
       "    </tr>\n",
       "    <tr>\n",
       "      <th>2</th>\n",
       "      <td>3</td>\n",
       "      <td>c</td>\n",
       "    </tr>\n",
       "    <tr>\n",
       "      <th>3</th>\n",
       "      <td>4</td>\n",
       "      <td>a</td>\n",
       "    </tr>\n",
       "    <tr>\n",
       "      <th>4</th>\n",
       "      <td>5</td>\n",
       "      <td>b</td>\n",
       "    </tr>\n",
       "    <tr>\n",
       "      <th>5</th>\n",
       "      <td>6</td>\n",
       "      <td>e</td>\n",
       "    </tr>\n",
       "  </tbody>\n",
       "</table>\n",
       "</div>"
      ],
      "text/plain": [
       "   id grade\n",
       "0   1     a\n",
       "1   2     b\n",
       "2   3     c\n",
       "3   4     a\n",
       "4   5     b\n",
       "5   6     e"
      ]
     },
     "execution_count": 72,
     "metadata": {},
     "output_type": "execute_result"
    }
   ],
   "source": [
    "df"
   ]
  },
  {
   "cell_type": "code",
   "execution_count": 73,
   "id": "c419a880",
   "metadata": {},
   "outputs": [],
   "source": [
    "df['Grade'] = df['grade'].astype(\"category\")"
   ]
  },
  {
   "cell_type": "code",
   "execution_count": 74,
   "id": "d1b46b44",
   "metadata": {},
   "outputs": [
    {
     "data": {
      "text/plain": [
       "0    a\n",
       "1    b\n",
       "2    c\n",
       "3    a\n",
       "4    b\n",
       "5    e\n",
       "Name: Grade, dtype: category\n",
       "Categories (4, object): ['a', 'b', 'c', 'e']"
      ]
     },
     "execution_count": 74,
     "metadata": {},
     "output_type": "execute_result"
    }
   ],
   "source": [
    "df['Grade'] "
   ]
  },
  {
   "cell_type": "code",
   "execution_count": 75,
   "id": "6d14e0dd",
   "metadata": {},
   "outputs": [],
   "source": [
    "df['Grade'].cat.categories = ['good', 'very bad', 'very good', 'Excellent']"
   ]
  },
  {
   "cell_type": "code",
   "execution_count": 76,
   "id": "236c8653",
   "metadata": {},
   "outputs": [],
   "source": [
    "df['Grade'] = df['Grade'].cat.set_categories(['good', 'bad', 'very good', 'very bad', 'medium'])"
   ]
  },
  {
   "cell_type": "code",
   "execution_count": 77,
   "id": "d899daaf",
   "metadata": {},
   "outputs": [
    {
     "data": {
      "text/plain": [
       "0         good\n",
       "1     very bad\n",
       "2    very good\n",
       "3         good\n",
       "4     very bad\n",
       "5          NaN\n",
       "Name: Grade, dtype: category\n",
       "Categories (5, object): ['good', 'bad', 'very good', 'very bad', 'medium']"
      ]
     },
     "execution_count": 77,
     "metadata": {},
     "output_type": "execute_result"
    }
   ],
   "source": [
    "df['Grade']"
   ]
  },
  {
   "cell_type": "code",
   "execution_count": 78,
   "id": "175cfb06",
   "metadata": {},
   "outputs": [],
   "source": [
    "import matplotlib.pyplot as plt"
   ]
  },
  {
   "cell_type": "code",
   "execution_count": 79,
   "id": "746c8fb3",
   "metadata": {},
   "outputs": [],
   "source": [
    "plt.close('all')"
   ]
  },
  {
   "cell_type": "code",
   "execution_count": 80,
   "id": "df4ad4aa",
   "metadata": {},
   "outputs": [],
   "source": [
    "ts = pd.Series(np.random.randn(500), index=pd.date_range('1/2/2023', periods=500))"
   ]
  },
  {
   "cell_type": "code",
   "execution_count": 81,
   "id": "689bc0c2",
   "metadata": {},
   "outputs": [],
   "source": [
    "ts = ts.cumsum()"
   ]
  },
  {
   "cell_type": "code",
   "execution_count": 82,
   "id": "5169c10d",
   "metadata": {},
   "outputs": [
    {
     "data": {
      "text/plain": [
       "<AxesSubplot:>"
      ]
     },
     "execution_count": 82,
     "metadata": {},
     "output_type": "execute_result"
    },
    {
     "data": {
      "image/png": "[encoded data removed]",
      "text/plain": [
       "<Figure size 640x480 with 1 Axes>"
      ]
     },
     "metadata": {},
     "output_type": "display_data"
    }
   ],
   "source": [
    "ts.plot()"
   ]
  },
  {
   "cell_type": "code",
   "execution_count": null,
   "id": "55bf492c",
   "metadata": {},
   "outputs": [],
   "source": []
  }
 ],
 "metadata": {
  "kernelspec": {
   "display_name": "Python 3 (ipykernel)",
   "language": "python",
   "name": "python3"
  },
  "language_info": {
   "codemirror_mode": {
    "name": "ipython",
    "version": 3
   },
   "file_extension": ".py",
   "mimetype": "text/x-python",
   "name": "python",
   "nbconvert_exporter": "python",
   "pygments_lexer": "ipython3",
   "version": "3.9.13"
  }
 },
 "nbformat": 4,
 "nbformat_minor": 5
}
